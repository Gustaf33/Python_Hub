{
 "cells": [
  {
   "cell_type": "code",
   "execution_count": 2,
   "id": "9c43691a-9951-4154-ae1d-f5c62681bb78",
   "metadata": {},
   "outputs": [],
   "source": [
    "#Mapping\n",
    "import numpy as np\n",
    "import pandas as pd\n",
    "from pandas import Series, DataFrame"
   ]
  },
  {
   "cell_type": "code",
   "execution_count": 3,
   "id": "66f95ed9-9e10-4285-a3da-1d86df463f1b",
   "metadata": {},
   "outputs": [
    {
     "data": {
      "text/html": [
       "<div>\n",
       "<style scoped>\n",
       "    .dataframe tbody tr th:only-of-type {\n",
       "        vertical-align: middle;\n",
       "    }\n",
       "\n",
       "    .dataframe tbody tr th {\n",
       "        vertical-align: top;\n",
       "    }\n",
       "\n",
       "    .dataframe thead th {\n",
       "        text-align: right;\n",
       "    }\n",
       "</style>\n",
       "<table border=\"1\" class=\"dataframe\">\n",
       "  <thead>\n",
       "    <tr style=\"text-align: right;\">\n",
       "      <th></th>\n",
       "      <th>city</th>\n",
       "      <th>altitude</th>\n",
       "    </tr>\n",
       "  </thead>\n",
       "  <tbody>\n",
       "    <tr>\n",
       "      <th>0</th>\n",
       "      <td>Alma</td>\n",
       "      <td>3158</td>\n",
       "    </tr>\n",
       "    <tr>\n",
       "      <th>1</th>\n",
       "      <td>Brian Head</td>\n",
       "      <td>3000</td>\n",
       "    </tr>\n",
       "    <tr>\n",
       "      <th>2</th>\n",
       "      <td>Fox Park</td>\n",
       "      <td>2762</td>\n",
       "    </tr>\n",
       "  </tbody>\n",
       "</table>\n",
       "</div>"
      ],
      "text/plain": [
       "         city  altitude\n",
       "0        Alma      3158\n",
       "1  Brian Head      3000\n",
       "2    Fox Park      2762"
      ]
     },
     "execution_count": 3,
     "metadata": {},
     "output_type": "execute_result"
    }
   ],
   "source": [
    "# Let's create a dframe to work with (Highest elevation cities in USA)\n",
    "dframe = DataFrame({'city':['Alma','Brian Head','Fox Park'],\n",
    "                    'altitude':[3158,3000,2762]})\n",
    "\n",
    "#Show\n",
    "dframe"
   ]
  },
  {
   "cell_type": "code",
   "execution_count": 4,
   "id": "1bcf6448-a3f2-4992-94fc-fad184eb8c35",
   "metadata": {},
   "outputs": [],
   "source": [
    "#Now let's say we wanted to add a column for the States, we can do that with a mapping.\n",
    "state_map={'Alma':'Colorado','Brian Head':'Utah','Fox Park':'Wyoming'}"
   ]
  },
  {
   "cell_type": "code",
   "execution_count": 8,
   "id": "1e53eb14-8721-438b-b46d-e727e0e90955",
   "metadata": {},
   "outputs": [
    {
     "data": {
      "text/html": [
       "<div>\n",
       "<style scoped>\n",
       "    .dataframe tbody tr th:only-of-type {\n",
       "        vertical-align: middle;\n",
       "    }\n",
       "\n",
       "    .dataframe tbody tr th {\n",
       "        vertical-align: top;\n",
       "    }\n",
       "\n",
       "    .dataframe thead th {\n",
       "        text-align: right;\n",
       "    }\n",
       "</style>\n",
       "<table border=\"1\" class=\"dataframe\">\n",
       "  <thead>\n",
       "    <tr style=\"text-align: right;\">\n",
       "      <th></th>\n",
       "      <th>city</th>\n",
       "      <th>altitude</th>\n",
       "      <th>state</th>\n",
       "    </tr>\n",
       "  </thead>\n",
       "  <tbody>\n",
       "    <tr>\n",
       "      <th>0</th>\n",
       "      <td>Alma</td>\n",
       "      <td>3158</td>\n",
       "      <td>Colorado</td>\n",
       "    </tr>\n",
       "    <tr>\n",
       "      <th>1</th>\n",
       "      <td>Brian Head</td>\n",
       "      <td>3000</td>\n",
       "      <td>Utah</td>\n",
       "    </tr>\n",
       "    <tr>\n",
       "      <th>2</th>\n",
       "      <td>Fox Park</td>\n",
       "      <td>2762</td>\n",
       "      <td>Wyoming</td>\n",
       "    </tr>\n",
       "  </tbody>\n",
       "</table>\n",
       "</div>"
      ],
      "text/plain": [
       "         city  altitude     state\n",
       "0        Alma      3158  Colorado\n",
       "1  Brian Head      3000      Utah\n",
       "2    Fox Park      2762   Wyoming"
      ]
     },
     "execution_count": 8,
     "metadata": {},
     "output_type": "execute_result"
    }
   ],
   "source": [
    "# Now we can map that data to our current dframe\n",
    "dframe['state'] = dframe['city'].map(state_map)\n",
    "\n",
    "#Show result\n",
    "dframe"
   ]
  },
  {
   "cell_type": "code",
   "execution_count": 9,
   "id": "834a4f22-4f6f-4d9e-9eef-17fdcd857ad3",
   "metadata": {},
   "outputs": [],
   "source": [
    "# Mapping is a great way to do element-wise transfomations and other data cleaning operations!\n",
    "# Next up : Replacing Values!"
   ]
  },
  {
   "cell_type": "code",
   "execution_count": null,
   "id": "6731135c-ef5b-491f-a22b-89e1c7e8c2ba",
   "metadata": {},
   "outputs": [],
   "source": []
  }
 ],
 "metadata": {
  "kernelspec": {
   "display_name": "Python 3 (ipykernel)",
   "language": "python",
   "name": "python3"
  },
  "language_info": {
   "codemirror_mode": {
    "name": "ipython",
    "version": 3
   },
   "file_extension": ".py",
   "mimetype": "text/x-python",
   "name": "python",
   "nbconvert_exporter": "python",
   "pygments_lexer": "ipython3",
   "version": "3.9.12"
  }
 },
 "nbformat": 4,
 "nbformat_minor": 5
}
