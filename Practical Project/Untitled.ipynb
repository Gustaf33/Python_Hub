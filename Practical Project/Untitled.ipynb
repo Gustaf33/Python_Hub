{
 "cells": [
  {
   "cell_type": "code",
   "execution_count": 6,
   "id": "7ddace53-446d-4bab-b21c-14be60eba8ef",
   "metadata": {},
   "outputs": [
    {
     "ename": "IndentationError",
     "evalue": "expected an indented block (2174743973.py, line 12)",
     "output_type": "error",
     "traceback": [
      "\u001b[1;36m  Input \u001b[1;32mIn [6]\u001b[1;36m\u001b[0m\n\u001b[1;33m    creds = pickle.load(token)\u001b[0m\n\u001b[1;37m    ^\u001b[0m\n\u001b[1;31mIndentationError\u001b[0m\u001b[1;31m:\u001b[0m expected an indented block\n"
     ]
    }
   ],
   "source": [
    "import os.path\n",
    "from googleapiclient.discovery import build\n",
    "from google_auth_oauthlib.flow import InstalledAppFlow\n",
    "from google.auth.transport.requests import Request\n",
    "from google.oauth2.credentials import Credentials\n",
    "\n",
    "SCOPES = ['https://www.googleapis.com/auth/gmail.readonly']\n",
    "\n",
    "creds = None\n",
    "if os.path.exists('token.pickle'):\n",
    "            with open('token.pickle', 'rb') as token:\n",
    "            creds = pickle.load(token)\n",
    "\n",
    "if not creds or not creds.valid:\n",
    "    if creds and creds.expired and creds.refresh_token:\n",
    "        creds.refresh(Request())\n",
    "    else:\n",
    "        flow = InstalledAppFlow.from_client_secrets_file(\n",
    "            'client_secret.json', SCOPES)\n",
    "        creds = flow.run_local_server(port=0)\n",
    "    # Save the credentials for the next run\n",
    "    with open('token.pickle', 'wb') as token:\n",
    "        token.write(creds.to_json())\n",
    "\n",
    "service = build('gmail', 'v1', credentials=creds)\n",
    "\n",
    "msg_res = service.users().messages()\n",
    "results = msg_res.list(userId='me', maxResults=10).execute()\n",
    "messages = results.get('messages', [])\n",
    "\n",
    "if not messages:\n",
    "    print('No messages found.')\n",
    "else:\n",
    "    print('Message from:')\n",
    "    for msg in messages:\n",
    "        msg_dict = msg_res.get(userId='me', id=msg['id']).execute()\n",
    "        msg_headers = msg_dict['payload']['headers']\n",
    "        msg_from = filter(lambda hdr: hdr['name'] == 'From', msg_headers)\n",
    "        msg_from = list(msg_from)[0]\n",
    "        print(msg_from['value'])"
   ]
  },
  {
   "cell_type": "code",
   "execution_count": null,
   "id": "ab1bcba3-395c-4cb1-a7bd-adb89a02a244",
   "metadata": {},
   "outputs": [],
   "source": []
  }
 ],
 "metadata": {
  "kernelspec": {
   "display_name": "Python 3 (ipykernel)",
   "language": "python",
   "name": "python3"
  },
  "language_info": {
   "codemirror_mode": {
    "name": "ipython",
    "version": 3
   },
   "file_extension": ".py",
   "mimetype": "text/x-python",
   "name": "python",
   "nbconvert_exporter": "python",
   "pygments_lexer": "ipython3",
   "version": "3.9.12"
  }
 },
 "nbformat": 4,
 "nbformat_minor": 5
}
