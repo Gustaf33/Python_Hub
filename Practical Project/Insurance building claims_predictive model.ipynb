{
 "cells": [
  {
   "cell_type": "code",
   "execution_count": 57,
   "id": "bf6e6f6b-ac6f-41e1-afa4-a3c4dd34d3de",
   "metadata": {
    "tags": []
   },
   "outputs": [],
   "source": [
    "import pandas as pd\n",
    "from pandas import DataFrame as df\n",
    "import numpy as np\n",
    "import seaborn as sns; sns.set_theme()\n",
    "import matplotlib.pyplot as plt\n",
    "pd.options.mode.chained_assignment = None\n",
    "%matplotlib inline"
   ]
  },
  {
   "cell_type": "code",
   "execution_count": 58,
   "id": "0f50769b-fd1c-4918-9dfe-38e9734ca114",
   "metadata": {},
   "outputs": [],
   "source": [
    "Set_A = pd.read_csv(\"Data_set_A.csv\")\n",
    "Set_B = pd.read_csv(\"Data_set_B.csv\")"
   ]
  },
  {
   "cell_type": "raw",
   "id": "cb573423-0f0d-42fe-97f2-05b584803d48",
   "metadata": {},
   "source": [
    "Treating Null Values\n",
    "1. Garden = Fill Null with the majority between V & O\n",
    "2. Building Dimension = Fill with average if it is located in rural or urban area\n",
    "3. Date_of_Occupancy = Fill with majority year if it is located in rural or urban area\n",
    "4. Geo_Code = Fill with majority if it is located in rural or urban area"
   ]
  },
  {
   "cell_type": "code",
   "execution_count": 59,
   "id": "de0b3bbf-3a7a-4d21-a892-01897f3aa9c2",
   "metadata": {},
   "outputs": [
    {
     "data": {
      "text/html": [
       "<div>\n",
       "<style scoped>\n",
       "    .dataframe tbody tr th:only-of-type {\n",
       "        vertical-align: middle;\n",
       "    }\n",
       "\n",
       "    .dataframe tbody tr th {\n",
       "        vertical-align: top;\n",
       "    }\n",
       "\n",
       "    .dataframe thead th {\n",
       "        text-align: right;\n",
       "    }\n",
       "</style>\n",
       "<table border=\"1\" class=\"dataframe\">\n",
       "  <thead>\n",
       "    <tr style=\"text-align: right;\">\n",
       "      <th></th>\n",
       "      <th>Customer Id</th>\n",
       "      <th>YearOfObservation</th>\n",
       "      <th>Insured_Period</th>\n",
       "      <th>Residential</th>\n",
       "      <th>Building_Painted</th>\n",
       "      <th>Building_Fenced</th>\n",
       "      <th>Garden</th>\n",
       "      <th>Settlement</th>\n",
       "      <th>Building Dimension</th>\n",
       "      <th>Building_Type</th>\n",
       "      <th>Date_of_Occupancy</th>\n",
       "      <th>NumberOfWindows</th>\n",
       "      <th>Geo_Code</th>\n",
       "      <th>Claim</th>\n",
       "    </tr>\n",
       "  </thead>\n",
       "  <tbody>\n",
       "    <tr>\n",
       "      <th>0</th>\n",
       "      <td>H14663</td>\n",
       "      <td>2013</td>\n",
       "      <td>1</td>\n",
       "      <td>1</td>\n",
       "      <td>N</td>\n",
       "      <td>V</td>\n",
       "      <td>V</td>\n",
       "      <td>U</td>\n",
       "      <td>290</td>\n",
       "      <td>1</td>\n",
       "      <td>1960</td>\n",
       "      <td>NaN</td>\n",
       "      <td>1053</td>\n",
       "      <td>0</td>\n",
       "    </tr>\n",
       "    <tr>\n",
       "      <th>1</th>\n",
       "      <td>H2037</td>\n",
       "      <td>2015</td>\n",
       "      <td>4</td>\n",
       "      <td>1</td>\n",
       "      <td>V</td>\n",
       "      <td>N</td>\n",
       "      <td>O</td>\n",
       "      <td>R</td>\n",
       "      <td>490</td>\n",
       "      <td>2</td>\n",
       "      <td>1950</td>\n",
       "      <td>4.0</td>\n",
       "      <td>1053</td>\n",
       "      <td>0</td>\n",
       "    </tr>\n",
       "    <tr>\n",
       "      <th>2</th>\n",
       "      <td>H3802</td>\n",
       "      <td>2014</td>\n",
       "      <td>1</td>\n",
       "      <td>0</td>\n",
       "      <td>N</td>\n",
       "      <td>V</td>\n",
       "      <td>V</td>\n",
       "      <td>U</td>\n",
       "      <td>595</td>\n",
       "      <td>3</td>\n",
       "      <td>1945</td>\n",
       "      <td>NaN</td>\n",
       "      <td>1053</td>\n",
       "      <td>1</td>\n",
       "    </tr>\n",
       "    <tr>\n",
       "      <th>3</th>\n",
       "      <td>H3834</td>\n",
       "      <td>2013</td>\n",
       "      <td>2</td>\n",
       "      <td>0</td>\n",
       "      <td>V</td>\n",
       "      <td>V</td>\n",
       "      <td>V</td>\n",
       "      <td>U</td>\n",
       "      <td>2840</td>\n",
       "      <td>1</td>\n",
       "      <td>1960</td>\n",
       "      <td>NaN</td>\n",
       "      <td>1053</td>\n",
       "      <td>0</td>\n",
       "    </tr>\n",
       "    <tr>\n",
       "      <th>4</th>\n",
       "      <td>H5053</td>\n",
       "      <td>2014</td>\n",
       "      <td>1</td>\n",
       "      <td>0</td>\n",
       "      <td>V</td>\n",
       "      <td>N</td>\n",
       "      <td>O</td>\n",
       "      <td>R</td>\n",
       "      <td>680</td>\n",
       "      <td>4</td>\n",
       "      <td>1800</td>\n",
       "      <td>3.0</td>\n",
       "      <td>1053</td>\n",
       "      <td>0</td>\n",
       "    </tr>\n",
       "  </tbody>\n",
       "</table>\n",
       "</div>"
      ],
      "text/plain": [
       "  Customer Id  YearOfObservation  Insured_Period  Residential  \\\n",
       "0      H14663               2013               1            1   \n",
       "1       H2037               2015               4            1   \n",
       "2       H3802               2014               1            0   \n",
       "3       H3834               2013               2            0   \n",
       "4       H5053               2014               1            0   \n",
       "\n",
       "  Building_Painted Building_Fenced Garden Settlement  Building Dimension  \\\n",
       "0                N               V      V          U                 290   \n",
       "1                V               N      O          R                 490   \n",
       "2                N               V      V          U                 595   \n",
       "3                V               V      V          U                2840   \n",
       "4                V               N      O          R                 680   \n",
       "\n",
       "   Building_Type  Date_of_Occupancy  NumberOfWindows  Geo_Code  Claim  \n",
       "0              1               1960              NaN      1053      0  \n",
       "1              2               1950              4.0      1053      0  \n",
       "2              3               1945              NaN      1053      1  \n",
       "3              1               1960              NaN      1053      0  \n",
       "4              4               1800              3.0      1053      0  "
      ]
     },
     "execution_count": 59,
     "metadata": {},
     "output_type": "execute_result"
    }
   ],
   "source": [
    "#Show Dataset A\n",
    "\n",
    "Set_A.head()"
   ]
  },
  {
   "cell_type": "code",
   "execution_count": 60,
   "id": "c220082a-9304-4e4d-9127-deb2ad55b42c",
   "metadata": {},
   "outputs": [
    {
     "data": {
      "text/html": [
       "<div>\n",
       "<style scoped>\n",
       "    .dataframe tbody tr th:only-of-type {\n",
       "        vertical-align: middle;\n",
       "    }\n",
       "\n",
       "    .dataframe tbody tr th {\n",
       "        vertical-align: top;\n",
       "    }\n",
       "\n",
       "    .dataframe thead th {\n",
       "        text-align: right;\n",
       "    }\n",
       "</style>\n",
       "<table border=\"1\" class=\"dataframe\">\n",
       "  <thead>\n",
       "    <tr style=\"text-align: right;\">\n",
       "      <th></th>\n",
       "      <th>YearOfObservation</th>\n",
       "      <th>Insured_Period</th>\n",
       "      <th>Residential</th>\n",
       "      <th>Building Dimension</th>\n",
       "      <th>Building_Type</th>\n",
       "      <th>Date_of_Occupancy</th>\n",
       "      <th>NumberOfWindows</th>\n",
       "      <th>Geo_Code</th>\n",
       "      <th>Claim</th>\n",
       "    </tr>\n",
       "  </thead>\n",
       "  <tbody>\n",
       "    <tr>\n",
       "      <th>count</th>\n",
       "      <td>30.000000</td>\n",
       "      <td>30.000000</td>\n",
       "      <td>30.000000</td>\n",
       "      <td>30.000000</td>\n",
       "      <td>30.000000</td>\n",
       "      <td>30.000000</td>\n",
       "      <td>12.000000</td>\n",
       "      <td>30.0</td>\n",
       "      <td>30.000000</td>\n",
       "    </tr>\n",
       "    <tr>\n",
       "      <th>mean</th>\n",
       "      <td>2013.800000</td>\n",
       "      <td>2.000000</td>\n",
       "      <td>0.400000</td>\n",
       "      <td>979.000000</td>\n",
       "      <td>2.200000</td>\n",
       "      <td>1905.833333</td>\n",
       "      <td>3.500000</td>\n",
       "      <td>1053.0</td>\n",
       "      <td>0.200000</td>\n",
       "    </tr>\n",
       "    <tr>\n",
       "      <th>std</th>\n",
       "      <td>0.761124</td>\n",
       "      <td>1.339068</td>\n",
       "      <td>0.498273</td>\n",
       "      <td>955.638801</td>\n",
       "      <td>1.186127</td>\n",
       "      <td>91.331938</td>\n",
       "      <td>0.522233</td>\n",
       "      <td>0.0</td>\n",
       "      <td>0.406838</td>\n",
       "    </tr>\n",
       "    <tr>\n",
       "      <th>min</th>\n",
       "      <td>2013.000000</td>\n",
       "      <td>1.000000</td>\n",
       "      <td>0.000000</td>\n",
       "      <td>290.000000</td>\n",
       "      <td>1.000000</td>\n",
       "      <td>1680.000000</td>\n",
       "      <td>3.000000</td>\n",
       "      <td>1053.0</td>\n",
       "      <td>0.000000</td>\n",
       "    </tr>\n",
       "    <tr>\n",
       "      <th>25%</th>\n",
       "      <td>2013.000000</td>\n",
       "      <td>1.000000</td>\n",
       "      <td>0.000000</td>\n",
       "      <td>490.000000</td>\n",
       "      <td>1.000000</td>\n",
       "      <td>1812.500000</td>\n",
       "      <td>3.000000</td>\n",
       "      <td>1053.0</td>\n",
       "      <td>0.000000</td>\n",
       "    </tr>\n",
       "    <tr>\n",
       "      <th>50%</th>\n",
       "      <td>2014.000000</td>\n",
       "      <td>1.000000</td>\n",
       "      <td>0.000000</td>\n",
       "      <td>595.000000</td>\n",
       "      <td>2.000000</td>\n",
       "      <td>1960.000000</td>\n",
       "      <td>3.500000</td>\n",
       "      <td>1053.0</td>\n",
       "      <td>0.000000</td>\n",
       "    </tr>\n",
       "    <tr>\n",
       "      <th>75%</th>\n",
       "      <td>2014.000000</td>\n",
       "      <td>2.750000</td>\n",
       "      <td>1.000000</td>\n",
       "      <td>680.000000</td>\n",
       "      <td>3.000000</td>\n",
       "      <td>1960.000000</td>\n",
       "      <td>4.000000</td>\n",
       "      <td>1053.0</td>\n",
       "      <td>0.000000</td>\n",
       "    </tr>\n",
       "    <tr>\n",
       "      <th>max</th>\n",
       "      <td>2015.000000</td>\n",
       "      <td>5.000000</td>\n",
       "      <td>1.000000</td>\n",
       "      <td>2840.000000</td>\n",
       "      <td>4.000000</td>\n",
       "      <td>2010.000000</td>\n",
       "      <td>4.000000</td>\n",
       "      <td>1053.0</td>\n",
       "      <td>1.000000</td>\n",
       "    </tr>\n",
       "  </tbody>\n",
       "</table>\n",
       "</div>"
      ],
      "text/plain": [
       "       YearOfObservation  Insured_Period  Residential  Building Dimension  \\\n",
       "count          30.000000       30.000000    30.000000           30.000000   \n",
       "mean         2013.800000        2.000000     0.400000          979.000000   \n",
       "std             0.761124        1.339068     0.498273          955.638801   \n",
       "min          2013.000000        1.000000     0.000000          290.000000   \n",
       "25%          2013.000000        1.000000     0.000000          490.000000   \n",
       "50%          2014.000000        1.000000     0.000000          595.000000   \n",
       "75%          2014.000000        2.750000     1.000000          680.000000   \n",
       "max          2015.000000        5.000000     1.000000         2840.000000   \n",
       "\n",
       "       Building_Type  Date_of_Occupancy  NumberOfWindows  Geo_Code      Claim  \n",
       "count      30.000000          30.000000        12.000000      30.0  30.000000  \n",
       "mean        2.200000        1905.833333         3.500000    1053.0   0.200000  \n",
       "std         1.186127          91.331938         0.522233       0.0   0.406838  \n",
       "min         1.000000        1680.000000         3.000000    1053.0   0.000000  \n",
       "25%         1.000000        1812.500000         3.000000    1053.0   0.000000  \n",
       "50%         2.000000        1960.000000         3.500000    1053.0   0.000000  \n",
       "75%         3.000000        1960.000000         4.000000    1053.0   0.000000  \n",
       "max         4.000000        2010.000000         4.000000    1053.0   1.000000  "
      ]
     },
     "execution_count": 60,
     "metadata": {},
     "output_type": "execute_result"
    }
   ],
   "source": [
    "#Dataset Description\n",
    "\n",
    "Set_A.describe()"
   ]
  },
  {
   "cell_type": "code",
   "execution_count": 61,
   "id": "6bfd1a16-e0b1-4f82-b0e2-19f297b6aa3e",
   "metadata": {},
   "outputs": [
    {
     "data": {
      "text/plain": [
       "Customer Id            0\n",
       "YearOfObservation      0\n",
       "Insured_Period         0\n",
       "Residential            0\n",
       "Building_Painted       0\n",
       "Building_Fenced        0\n",
       "Garden                 0\n",
       "Settlement             0\n",
       "Building Dimension     0\n",
       "Building_Type          0\n",
       "Date_of_Occupancy      0\n",
       "NumberOfWindows       18\n",
       "Geo_Code               0\n",
       "Claim                  0\n",
       "dtype: int64"
      ]
     },
     "execution_count": 61,
     "metadata": {},
     "output_type": "execute_result"
    }
   ],
   "source": [
    "#Check for NUll values\n",
    "\n",
    "Set_A.isnull().sum()"
   ]
  },
  {
   "cell_type": "code",
   "execution_count": 62,
   "id": "f7feee53-c76f-407a-b142-0b046e556087",
   "metadata": {},
   "outputs": [
    {
     "data": {
      "text/html": [
       "<div>\n",
       "<style scoped>\n",
       "    .dataframe tbody tr th:only-of-type {\n",
       "        vertical-align: middle;\n",
       "    }\n",
       "\n",
       "    .dataframe tbody tr th {\n",
       "        vertical-align: top;\n",
       "    }\n",
       "\n",
       "    .dataframe thead th {\n",
       "        text-align: right;\n",
       "    }\n",
       "</style>\n",
       "<table border=\"1\" class=\"dataframe\">\n",
       "  <thead>\n",
       "    <tr style=\"text-align: right;\">\n",
       "      <th></th>\n",
       "      <th>Customer Id</th>\n",
       "      <th>YearOfObservation</th>\n",
       "      <th>Insured_Period</th>\n",
       "      <th>Residential</th>\n",
       "      <th>Building_Painted</th>\n",
       "      <th>Building_Fenced</th>\n",
       "      <th>Garden</th>\n",
       "      <th>Settlement</th>\n",
       "      <th>Building Dimension</th>\n",
       "      <th>Building_Type</th>\n",
       "      <th>Date_of_Occupancy</th>\n",
       "      <th>NumberOfWindows</th>\n",
       "      <th>Geo_Code</th>\n",
       "    </tr>\n",
       "  </thead>\n",
       "  <tbody>\n",
       "    <tr>\n",
       "      <th>0</th>\n",
       "      <td>H11920</td>\n",
       "      <td>2013</td>\n",
       "      <td>1.000000</td>\n",
       "      <td>0</td>\n",
       "      <td>V</td>\n",
       "      <td>N</td>\n",
       "      <td>O</td>\n",
       "      <td>R</td>\n",
       "      <td>300</td>\n",
       "      <td>1</td>\n",
       "      <td>1960</td>\n",
       "      <td>3</td>\n",
       "      <td>3310</td>\n",
       "    </tr>\n",
       "    <tr>\n",
       "      <th>1</th>\n",
       "      <td>H11921</td>\n",
       "      <td>2016</td>\n",
       "      <td>0.997268</td>\n",
       "      <td>0</td>\n",
       "      <td>V</td>\n",
       "      <td>N</td>\n",
       "      <td>O</td>\n",
       "      <td>R</td>\n",
       "      <td>300</td>\n",
       "      <td>1</td>\n",
       "      <td>1960</td>\n",
       "      <td>3</td>\n",
       "      <td>3310</td>\n",
       "    </tr>\n",
       "    <tr>\n",
       "      <th>2</th>\n",
       "      <td>H9805</td>\n",
       "      <td>2013</td>\n",
       "      <td>0.369863</td>\n",
       "      <td>1</td>\n",
       "      <td>V</td>\n",
       "      <td>V</td>\n",
       "      <td>V</td>\n",
       "      <td>U</td>\n",
       "      <td>790</td>\n",
       "      <td>1</td>\n",
       "      <td>1960</td>\n",
       "      <td>.</td>\n",
       "      <td>3310</td>\n",
       "    </tr>\n",
       "    <tr>\n",
       "      <th>3</th>\n",
       "      <td>H7493</td>\n",
       "      <td>2014</td>\n",
       "      <td>1.000000</td>\n",
       "      <td>1</td>\n",
       "      <td>V</td>\n",
       "      <td>N</td>\n",
       "      <td>O</td>\n",
       "      <td>R</td>\n",
       "      <td>1405</td>\n",
       "      <td>1</td>\n",
       "      <td>2004</td>\n",
       "      <td>3</td>\n",
       "      <td>3321</td>\n",
       "    </tr>\n",
       "    <tr>\n",
       "      <th>4</th>\n",
       "      <td>H7494</td>\n",
       "      <td>2016</td>\n",
       "      <td>1.000000</td>\n",
       "      <td>1</td>\n",
       "      <td>V</td>\n",
       "      <td>N</td>\n",
       "      <td>O</td>\n",
       "      <td>R</td>\n",
       "      <td>1405</td>\n",
       "      <td>1</td>\n",
       "      <td>2004</td>\n",
       "      <td>3</td>\n",
       "      <td>332</td>\n",
       "    </tr>\n",
       "  </tbody>\n",
       "</table>\n",
       "</div>"
      ],
      "text/plain": [
       "  Customer Id  YearOfObservation  Insured_Period  Residential  \\\n",
       "0      H11920               2013        1.000000            0   \n",
       "1      H11921               2016        0.997268            0   \n",
       "2       H9805               2013        0.369863            1   \n",
       "3       H7493               2014        1.000000            1   \n",
       "4       H7494               2016        1.000000            1   \n",
       "\n",
       "  Building_Painted Building_Fenced Garden Settlement  Building Dimension  \\\n",
       "0                V               N      O          R                 300   \n",
       "1                V               N      O          R                 300   \n",
       "2                V               V      V          U                 790   \n",
       "3                V               N      O          R                1405   \n",
       "4                V               N      O          R                1405   \n",
       "\n",
       "   Building_Type  Date_of_Occupancy NumberOfWindows  Geo_Code  \n",
       "0              1               1960               3      3310  \n",
       "1              1               1960               3      3310  \n",
       "2              1               1960               .      3310  \n",
       "3              1               2004               3      3321  \n",
       "4              1               2004               3       332  "
      ]
     },
     "execution_count": 62,
     "metadata": {},
     "output_type": "execute_result"
    }
   ],
   "source": [
    "#Show Dataset B\n",
    "\n",
    "Set_B.head()"
   ]
  },
  {
   "cell_type": "code",
   "execution_count": 63,
   "id": "6d56f03b-c598-43fb-bc31-712b9b704d5b",
   "metadata": {},
   "outputs": [
    {
     "data": {
      "text/plain": [
       "Customer Id           0\n",
       "YearOfObservation     0\n",
       "Insured_Period        0\n",
       "Residential           0\n",
       "Building_Painted      0\n",
       "Building_Fenced       0\n",
       "Garden                0\n",
       "Settlement            0\n",
       "Building Dimension    0\n",
       "Building_Type         0\n",
       "Date_of_Occupancy     0\n",
       "NumberOfWindows       0\n",
       "Geo_Code              0\n",
       "dtype: int64"
      ]
     },
     "execution_count": 63,
     "metadata": {},
     "output_type": "execute_result"
    }
   ],
   "source": [
    "#Check for NUll values\n",
    "\n",
    "Set_B.isnull().sum()"
   ]
  },
  {
   "cell_type": "raw",
   "id": "49352715-4f1f-45cd-b06a-36bbfe0d7b58",
   "metadata": {},
   "source": [
    "#Data Preparation and Analysis\n",
    "\n",
    "Treating Null Values\n",
    "1. Garden = Fill Null with the majority between V & O\n",
    "2. Building Dimension = Fill with average if it is located in rural or urban area\n",
    "3. Date_of_Occupancy = Fill with majority year if it is located in rural or urban area\n",
    "4. Geo_Code = Fill with majority if it is located in rural or urban area"
   ]
  },
  {
   "cell_type": "code",
   "execution_count": 64,
   "id": "bbf17649-90a5-462e-ba59-e028bc8889f4",
   "metadata": {},
   "outputs": [
    {
     "data": {
      "text/plain": [
       "V    18\n",
       "O    12\n",
       "Name: Garden, dtype: int64"
      ]
     },
     "execution_count": 64,
     "metadata": {},
     "output_type": "execute_result"
    }
   ],
   "source": [
    "#Garden - #fill null values for garden. \"O\" which means no garden is the majority\n",
    "\n",
    "Set_A[\"Garden\"].value_counts()"
   ]
  },
  {
   "cell_type": "code",
   "execution_count": 65,
   "id": "f4a57aef-5518-4702-b465-bca14b336e12",
   "metadata": {},
   "outputs": [],
   "source": [
    "Set_A[\"Garden\"].fillna(\"O\", inplace=True)\n",
    "Set_B[\"Garden\"].fillna(\"O\", inplace=True)"
   ]
  },
  {
   "cell_type": "code",
   "execution_count": 66,
   "id": "41336ef5-c098-42c8-94d0-7bf2d90902d2",
   "metadata": {},
   "outputs": [],
   "source": [
    "#Building Dimension\n",
    "\n",
    "settlement = Set_A[[\"Building Dimension\", \"Settlement\"]]"
   ]
  },
  {
   "cell_type": "code",
   "execution_count": 67,
   "id": "73e24c6e-77c7-48c8-a72a-39256c4d88b7",
   "metadata": {},
   "outputs": [
    {
     "data": {
      "text/html": [
       "<div>\n",
       "<style scoped>\n",
       "    .dataframe tbody tr th:only-of-type {\n",
       "        vertical-align: middle;\n",
       "    }\n",
       "\n",
       "    .dataframe tbody tr th {\n",
       "        vertical-align: top;\n",
       "    }\n",
       "\n",
       "    .dataframe thead th {\n",
       "        text-align: right;\n",
       "    }\n",
       "</style>\n",
       "<table border=\"1\" class=\"dataframe\">\n",
       "  <thead>\n",
       "    <tr style=\"text-align: right;\">\n",
       "      <th></th>\n",
       "      <th>Building Dimension</th>\n",
       "      <th>Settlement</th>\n",
       "    </tr>\n",
       "  </thead>\n",
       "  <tbody>\n",
       "    <tr>\n",
       "      <th>0</th>\n",
       "      <td>290</td>\n",
       "      <td>U</td>\n",
       "    </tr>\n",
       "    <tr>\n",
       "      <th>1</th>\n",
       "      <td>490</td>\n",
       "      <td>R</td>\n",
       "    </tr>\n",
       "    <tr>\n",
       "      <th>2</th>\n",
       "      <td>595</td>\n",
       "      <td>U</td>\n",
       "    </tr>\n",
       "    <tr>\n",
       "      <th>3</th>\n",
       "      <td>2840</td>\n",
       "      <td>U</td>\n",
       "    </tr>\n",
       "    <tr>\n",
       "      <th>4</th>\n",
       "      <td>680</td>\n",
       "      <td>R</td>\n",
       "    </tr>\n",
       "  </tbody>\n",
       "</table>\n",
       "</div>"
      ],
      "text/plain": [
       "   Building Dimension Settlement\n",
       "0                 290          U\n",
       "1                 490          R\n",
       "2                 595          U\n",
       "3                2840          U\n",
       "4                 680          R"
      ]
     },
     "execution_count": 67,
     "metadata": {},
     "output_type": "execute_result"
    }
   ],
   "source": [
    "settlement.head()"
   ]
  },
  {
   "cell_type": "code",
   "execution_count": 68,
   "id": "ba3989dd-33c7-4614-8be5-cb63b1b9c225",
   "metadata": {},
   "outputs": [
    {
     "data": {
      "text/plain": [
       "0"
      ]
     },
     "execution_count": 68,
     "metadata": {},
     "output_type": "execute_result"
    }
   ],
   "source": [
    "#check which settlement type has majority of the null values\n",
    "#rural has just 1 while urban has 105\n",
    "#all null values will be filled with the average of rural building dimensions\n",
    "\n",
    "settlement[settlement[\"Settlement\"]==\"U\"][\"Building Dimension\"].isnull().sum()"
   ]
  },
  {
   "cell_type": "code",
   "execution_count": 69,
   "id": "fd1ef1ad-4510-49e2-802b-676fe1f403f0",
   "metadata": {},
   "outputs": [
    {
     "data": {
      "text/plain": [
       "1241.6666666666667"
      ]
     },
     "execution_count": 69,
     "metadata": {},
     "output_type": "execute_result"
    }
   ],
   "source": [
    "#average size for buildings in urban areas\n",
    "\n",
    "urban_  = settlement[settlement[\"Settlement\"]==\"U\"][\"Building Dimension\"].mean()\n",
    "urban_"
   ]
  },
  {
   "cell_type": "code",
   "execution_count": 70,
   "id": "9327cd0f-fe62-4ba3-b44b-3b291cdfef35",
   "metadata": {},
   "outputs": [],
   "source": [
    "#filling null values for building dimensions\n",
    "\n",
    "Set_A[\"Building Dimension\"].fillna(urban_, inplace=True)\n",
    "Set_B[\"Building Dimension\"].fillna(urban_, inplace=True)"
   ]
  },
  {
   "cell_type": "code",
   "execution_count": 71,
   "id": "67c84c54-d25f-4d81-a667-570144647db8",
   "metadata": {},
   "outputs": [
    {
     "data": {
      "text/plain": [
       "0"
      ]
     },
     "execution_count": 71,
     "metadata": {},
     "output_type": "execute_result"
    }
   ],
   "source": [
    "#quick check\n",
    "\n",
    "Set_A[\"Building Dimension\"].isnull().sum()"
   ]
  },
  {
   "cell_type": "code",
   "execution_count": 72,
   "id": "d7743f63-b936-4c99-8543-48a5e2c8e163",
   "metadata": {},
   "outputs": [
    {
     "data": {
      "text/plain": [
       "Customer Id            0\n",
       "YearOfObservation      0\n",
       "Insured_Period         0\n",
       "Residential            0\n",
       "Building_Painted       0\n",
       "Building_Fenced        0\n",
       "Garden                 0\n",
       "Settlement             0\n",
       "Building Dimension     0\n",
       "Building_Type          0\n",
       "Date_of_Occupancy      0\n",
       "NumberOfWindows       18\n",
       "Geo_Code               0\n",
       "Claim                  0\n",
       "dtype: int64"
      ]
     },
     "execution_count": 72,
     "metadata": {},
     "output_type": "execute_result"
    }
   ],
   "source": [
    "Set_A.isnull().sum()"
   ]
  },
  {
   "cell_type": "code",
   "execution_count": 73,
   "id": "9dea5d86-7699-43ba-95ca-be080e974e83",
   "metadata": {},
   "outputs": [
    {
     "data": {
      "text/plain": [
       "0"
      ]
     },
     "execution_count": 73,
     "metadata": {},
     "output_type": "execute_result"
    }
   ],
   "source": [
    "#Date of Occupation\n",
    "\n",
    "#check which settlement type has majority of null values\n",
    "#urban has majority with 507 while rural has just 1\n",
    "#null values will be filled with the highest occuring date of occupancy from buildings in urban settlement\n",
    "\n",
    "Set_A[Set_A[\"Settlement\"]==\"U\"][\"Date_of_Occupancy\"].isnull().sum()"
   ]
  },
  {
   "cell_type": "code",
   "execution_count": 74,
   "id": "1adb0d1c-4c32-465a-80a9-eb27b2cd3ecf",
   "metadata": {},
   "outputs": [
    {
     "data": {
      "text/plain": [
       "1960    14\n",
       "Name: Date_of_Occupancy, dtype: int64"
      ]
     },
     "execution_count": 74,
     "metadata": {},
     "output_type": "execute_result"
    }
   ],
   "source": [
    "#highest occuring date of occupancy is 1960\n",
    "\n",
    "date = Set_A[Set_A[\"Settlement\"]==\"U\"][\"Date_of_Occupancy\"].value_counts().head(1)\n",
    "date"
   ]
  },
  {
   "cell_type": "code",
   "execution_count": 75,
   "id": "4fcaaedb-ca4f-4ab3-a575-7c42503e7103",
   "metadata": {},
   "outputs": [
    {
     "data": {
      "text/plain": [
       "Customer Id            0\n",
       "YearOfObservation      0\n",
       "Insured_Period         0\n",
       "Residential            0\n",
       "Building_Painted       0\n",
       "Building_Fenced        0\n",
       "Garden                 0\n",
       "Settlement             0\n",
       "Building Dimension     0\n",
       "Building_Type          0\n",
       "Date_of_Occupancy      0\n",
       "NumberOfWindows       18\n",
       "Geo_Code               0\n",
       "Claim                  0\n",
       "dtype: int64"
      ]
     },
     "execution_count": 75,
     "metadata": {},
     "output_type": "execute_result"
    }
   ],
   "source": [
    "#quick check\n",
    "\n",
    "Set_A.isnull().sum()"
   ]
  },
  {
   "cell_type": "code",
   "execution_count": 76,
   "id": "dfe1d997-d255-4434-ae79-82e06849b2f3",
   "metadata": {},
   "outputs": [
    {
     "data": {
      "text/plain": [
       "1053    18\n",
       "Name: Geo_Code, dtype: int64"
      ]
     },
     "execution_count": 76,
     "metadata": {},
     "output_type": "execute_result"
    }
   ],
   "source": [
    "#Geo_Code\n",
    "\n",
    "Set_A[Set_A[\"Settlement\"]==\"U\"][\"Geo_Code\"].value_counts()"
   ]
  },
  {
   "cell_type": "code",
   "execution_count": 77,
   "id": "c994d7fb-244c-4867-8d53-56abae3b2d4c",
   "metadata": {},
   "outputs": [],
   "source": [
    "#Cleaning of Columns\n",
    "\n",
    "Set_A.drop(\"Geo_Code\",axis=1, inplace=True)\n",
    "Set_B.drop(\"Geo_Code\",axis=1, inplace=True)"
   ]
  },
  {
   "cell_type": "code",
   "execution_count": 78,
   "id": "6d531a8a-9b49-4788-ae16-1c67b1ce5cd5",
   "metadata": {},
   "outputs": [
    {
     "data": {
      "text/plain": [
       "4.0    6\n",
       "3.0    6\n",
       "Name: NumberOfWindows, dtype: int64"
      ]
     },
     "execution_count": 78,
     "metadata": {},
     "output_type": "execute_result"
    }
   ],
   "source": [
    "#the \".\" here will be treated as null values. And since an overwhelming majority is null, this column will be dropped\n",
    "\n",
    "Set_A[\"NumberOfWindows\"].value_counts()"
   ]
  },
  {
   "cell_type": "code",
   "execution_count": 79,
   "id": "a00cd916-64f2-4cf8-af9c-7547f1a73ea6",
   "metadata": {},
   "outputs": [],
   "source": [
    "Set_A.drop(\"NumberOfWindows\", axis=1, inplace=True)\n",
    "Set_B.drop(\"NumberOfWindows\", axis=1, inplace=True)"
   ]
  },
  {
   "cell_type": "code",
   "execution_count": 80,
   "id": "0e88af14-e9dc-43a7-893e-9e726ade9a2f",
   "metadata": {},
   "outputs": [
    {
     "name": "stdout",
     "output_type": "stream",
     "text": [
      "<class 'pandas.core.frame.DataFrame'>\n",
      "RangeIndex: 30 entries, 0 to 29\n",
      "Data columns (total 12 columns):\n",
      " #   Column              Non-Null Count  Dtype \n",
      "---  ------              --------------  ----- \n",
      " 0   Customer Id         30 non-null     object\n",
      " 1   YearOfObservation   30 non-null     int64 \n",
      " 2   Insured_Period      30 non-null     int64 \n",
      " 3   Residential         30 non-null     int64 \n",
      " 4   Building_Painted    30 non-null     object\n",
      " 5   Building_Fenced     30 non-null     object\n",
      " 6   Garden              30 non-null     object\n",
      " 7   Settlement          30 non-null     object\n",
      " 8   Building Dimension  30 non-null     int64 \n",
      " 9   Building_Type       30 non-null     int64 \n",
      " 10  Date_of_Occupancy   30 non-null     int64 \n",
      " 11  Claim               30 non-null     int64 \n",
      "dtypes: int64(7), object(5)\n",
      "memory usage: 2.9+ KB\n"
     ]
    }
   ],
   "source": [
    "#Date_Of_Occupancy\n",
    "#Changing the date of occupancy from a float to integer\n",
    "\n",
    "Set_A.info()"
   ]
  },
  {
   "cell_type": "code",
   "execution_count": 81,
   "id": "7bb75c98-87b1-4455-855f-4cd9fb86e468",
   "metadata": {},
   "outputs": [],
   "source": [
    "#a function that splits the column into two by \".\" and then picking the first index\n",
    "\n",
    "def split_(x):\n",
    "    x=str(x).split(\".\")[0]\n",
    "    return int(x)"
   ]
  },
  {
   "cell_type": "code",
   "execution_count": 82,
   "id": "25099ced-071b-4fe8-afbd-9e0799d1669b",
   "metadata": {},
   "outputs": [
    {
     "data": {
      "text/plain": [
       "1970"
      ]
     },
     "execution_count": 82,
     "metadata": {},
     "output_type": "execute_result"
    }
   ],
   "source": [
    "#test of the function\n",
    "\n",
    "split_(1970.0)"
   ]
  },
  {
   "cell_type": "code",
   "execution_count": 83,
   "id": "851aea94-6ce1-46dd-99a4-db61028c5b10",
   "metadata": {},
   "outputs": [],
   "source": [
    "#applying the function\n",
    "\n",
    "Set_A[\"Date_of_Occupancy\"] = Set_A[\"Date_of_Occupancy\"].apply(split_)\n",
    "Set_B[\"Date_of_Occupancy\"] = Set_B[\"Date_of_Occupancy\"].apply(split_)"
   ]
  },
  {
   "cell_type": "code",
   "execution_count": 84,
   "id": "b9777010-c5f1-4233-a1c4-1554a888fd89",
   "metadata": {},
   "outputs": [
    {
     "data": {
      "text/html": [
       "<div>\n",
       "<style scoped>\n",
       "    .dataframe tbody tr th:only-of-type {\n",
       "        vertical-align: middle;\n",
       "    }\n",
       "\n",
       "    .dataframe tbody tr th {\n",
       "        vertical-align: top;\n",
       "    }\n",
       "\n",
       "    .dataframe thead th {\n",
       "        text-align: right;\n",
       "    }\n",
       "</style>\n",
       "<table border=\"1\" class=\"dataframe\">\n",
       "  <thead>\n",
       "    <tr style=\"text-align: right;\">\n",
       "      <th></th>\n",
       "      <th>Customer Id</th>\n",
       "      <th>YearOfObservation</th>\n",
       "      <th>Insured_Period</th>\n",
       "      <th>Residential</th>\n",
       "      <th>Building_Painted</th>\n",
       "      <th>Building_Fenced</th>\n",
       "      <th>Garden</th>\n",
       "      <th>Settlement</th>\n",
       "      <th>Building Dimension</th>\n",
       "      <th>Building_Type</th>\n",
       "      <th>Date_of_Occupancy</th>\n",
       "      <th>Claim</th>\n",
       "    </tr>\n",
       "  </thead>\n",
       "  <tbody>\n",
       "    <tr>\n",
       "      <th>0</th>\n",
       "      <td>H14663</td>\n",
       "      <td>2013</td>\n",
       "      <td>1</td>\n",
       "      <td>1</td>\n",
       "      <td>N</td>\n",
       "      <td>V</td>\n",
       "      <td>V</td>\n",
       "      <td>U</td>\n",
       "      <td>290</td>\n",
       "      <td>1</td>\n",
       "      <td>1960</td>\n",
       "      <td>0</td>\n",
       "    </tr>\n",
       "    <tr>\n",
       "      <th>1</th>\n",
       "      <td>H2037</td>\n",
       "      <td>2015</td>\n",
       "      <td>4</td>\n",
       "      <td>1</td>\n",
       "      <td>V</td>\n",
       "      <td>N</td>\n",
       "      <td>O</td>\n",
       "      <td>R</td>\n",
       "      <td>490</td>\n",
       "      <td>2</td>\n",
       "      <td>1950</td>\n",
       "      <td>0</td>\n",
       "    </tr>\n",
       "    <tr>\n",
       "      <th>2</th>\n",
       "      <td>H3802</td>\n",
       "      <td>2014</td>\n",
       "      <td>1</td>\n",
       "      <td>0</td>\n",
       "      <td>N</td>\n",
       "      <td>V</td>\n",
       "      <td>V</td>\n",
       "      <td>U</td>\n",
       "      <td>595</td>\n",
       "      <td>3</td>\n",
       "      <td>1945</td>\n",
       "      <td>1</td>\n",
       "    </tr>\n",
       "    <tr>\n",
       "      <th>3</th>\n",
       "      <td>H3834</td>\n",
       "      <td>2013</td>\n",
       "      <td>2</td>\n",
       "      <td>0</td>\n",
       "      <td>V</td>\n",
       "      <td>V</td>\n",
       "      <td>V</td>\n",
       "      <td>U</td>\n",
       "      <td>2840</td>\n",
       "      <td>1</td>\n",
       "      <td>1960</td>\n",
       "      <td>0</td>\n",
       "    </tr>\n",
       "    <tr>\n",
       "      <th>4</th>\n",
       "      <td>H5053</td>\n",
       "      <td>2014</td>\n",
       "      <td>1</td>\n",
       "      <td>0</td>\n",
       "      <td>V</td>\n",
       "      <td>N</td>\n",
       "      <td>O</td>\n",
       "      <td>R</td>\n",
       "      <td>680</td>\n",
       "      <td>4</td>\n",
       "      <td>1800</td>\n",
       "      <td>0</td>\n",
       "    </tr>\n",
       "  </tbody>\n",
       "</table>\n",
       "</div>"
      ],
      "text/plain": [
       "  Customer Id  YearOfObservation  Insured_Period  Residential  \\\n",
       "0      H14663               2013               1            1   \n",
       "1       H2037               2015               4            1   \n",
       "2       H3802               2014               1            0   \n",
       "3       H3834               2013               2            0   \n",
       "4       H5053               2014               1            0   \n",
       "\n",
       "  Building_Painted Building_Fenced Garden Settlement  Building Dimension  \\\n",
       "0                N               V      V          U                 290   \n",
       "1                V               N      O          R                 490   \n",
       "2                N               V      V          U                 595   \n",
       "3                V               V      V          U                2840   \n",
       "4                V               N      O          R                 680   \n",
       "\n",
       "   Building_Type  Date_of_Occupancy  Claim  \n",
       "0              1               1960      0  \n",
       "1              2               1950      0  \n",
       "2              3               1945      1  \n",
       "3              1               1960      0  \n",
       "4              4               1800      0  "
      ]
     },
     "execution_count": 84,
     "metadata": {},
     "output_type": "execute_result"
    }
   ],
   "source": [
    "#quick check\n",
    "\n",
    "Set_A.head()"
   ]
  },
  {
   "cell_type": "code",
   "execution_count": 85,
   "id": "16dc644f-3bc7-4a9d-9082-ab093740c2bd",
   "metadata": {
    "tags": []
   },
   "outputs": [],
   "source": [
    "def split_id(q):\n",
    "    q=str(q).split(\"H\")[1]\n",
    "    return int(q)"
   ]
  },
  {
   "cell_type": "code",
   "execution_count": 86,
   "id": "e4c66918-85f0-40f7-9739-2afb39e9c823",
   "metadata": {},
   "outputs": [],
   "source": [
    "#This function splits Insured period in 2 groups; \n",
    "# Over 0.5 will be 1 year policy duration \n",
    "# Less than 0.5 will be no policy duration\n",
    "\n",
    "\n",
    "#def insured(x):\n",
    "\n",
    " # if x < 0.5:\n",
    "  #  return 0\n",
    "  #else:\n",
    "   # return 1\n",
    "#applying the function\n",
    "\n",
    "#Set_A[\"Insured_Period\"] = Set_A[\"Insured_Period\"].apply(insured)\n",
    "#Set_B[\"Insured_Period\"] = Set_B[\"Insured_Period\"].apply(insured)"
   ]
  },
  {
   "cell_type": "code",
   "execution_count": 87,
   "id": "3d962449-7287-4269-93dc-2ac1dbb665c8",
   "metadata": {},
   "outputs": [
    {
     "data": {
      "text/plain": [
       "1    16\n",
       "2     6\n",
       "4     4\n",
       "3     2\n",
       "5     2\n",
       "Name: Insured_Period, dtype: int64"
      ]
     },
     "execution_count": 87,
     "metadata": {},
     "output_type": "execute_result"
    }
   ],
   "source": [
    "Set_A[\"Insured_Period\"].value_counts()"
   ]
  },
  {
   "cell_type": "code",
   "execution_count": 88,
   "id": "ceaddb66-da92-451a-9062-46b78dc3386e",
   "metadata": {},
   "outputs": [
    {
     "data": {
      "text/plain": [
       "Customer Id           0\n",
       "YearOfObservation     0\n",
       "Insured_Period        0\n",
       "Residential           0\n",
       "Building_Painted      0\n",
       "Building_Fenced       0\n",
       "Garden                0\n",
       "Settlement            0\n",
       "Building Dimension    0\n",
       "Building_Type         0\n",
       "Date_of_Occupancy     0\n",
       "Claim                 0\n",
       "dtype: int64"
      ]
     },
     "execution_count": 88,
     "metadata": {},
     "output_type": "execute_result"
    }
   ],
   "source": [
    "Set_A.isnull().sum()"
   ]
  },
  {
   "cell_type": "code",
   "execution_count": 89,
   "id": "61405db9-68a9-406c-aca0-d3c2b48fd604",
   "metadata": {},
   "outputs": [
    {
     "data": {
      "text/plain": [
       "14663"
      ]
     },
     "execution_count": 89,
     "metadata": {},
     "output_type": "execute_result"
    }
   ],
   "source": [
    "split_id(\"H14663\")"
   ]
  },
  {
   "cell_type": "code",
   "execution_count": 90,
   "id": "1098d7e1-9fd3-4117-a40d-78d1722c2592",
   "metadata": {},
   "outputs": [],
   "source": [
    "#applying the function to customer id\n",
    "\n",
    "Set_A[\"Customer Id\"] = Set_A[\"Customer Id\"].apply(split_id)\n",
    "Set_B[\"Customer Id\"] = Set_B[\"Customer Id\"].apply(split_id)"
   ]
  },
  {
   "cell_type": "code",
   "execution_count": 91,
   "id": "d199e32b-ac10-46cf-8711-3f3f8836afe5",
   "metadata": {},
   "outputs": [
    {
     "data": {
      "text/html": [
       "<div>\n",
       "<style scoped>\n",
       "    .dataframe tbody tr th:only-of-type {\n",
       "        vertical-align: middle;\n",
       "    }\n",
       "\n",
       "    .dataframe tbody tr th {\n",
       "        vertical-align: top;\n",
       "    }\n",
       "\n",
       "    .dataframe thead th {\n",
       "        text-align: right;\n",
       "    }\n",
       "</style>\n",
       "<table border=\"1\" class=\"dataframe\">\n",
       "  <thead>\n",
       "    <tr style=\"text-align: right;\">\n",
       "      <th></th>\n",
       "      <th>Customer Id</th>\n",
       "      <th>YearOfObservation</th>\n",
       "      <th>Insured_Period</th>\n",
       "      <th>Residential</th>\n",
       "      <th>Building_Painted</th>\n",
       "      <th>Building_Fenced</th>\n",
       "      <th>Garden</th>\n",
       "      <th>Settlement</th>\n",
       "      <th>Building Dimension</th>\n",
       "      <th>Building_Type</th>\n",
       "      <th>Date_of_Occupancy</th>\n",
       "      <th>Claim</th>\n",
       "    </tr>\n",
       "  </thead>\n",
       "  <tbody>\n",
       "    <tr>\n",
       "      <th>0</th>\n",
       "      <td>14663</td>\n",
       "      <td>2013</td>\n",
       "      <td>1</td>\n",
       "      <td>1</td>\n",
       "      <td>N</td>\n",
       "      <td>V</td>\n",
       "      <td>V</td>\n",
       "      <td>U</td>\n",
       "      <td>290</td>\n",
       "      <td>1</td>\n",
       "      <td>1960</td>\n",
       "      <td>0</td>\n",
       "    </tr>\n",
       "    <tr>\n",
       "      <th>1</th>\n",
       "      <td>2037</td>\n",
       "      <td>2015</td>\n",
       "      <td>4</td>\n",
       "      <td>1</td>\n",
       "      <td>V</td>\n",
       "      <td>N</td>\n",
       "      <td>O</td>\n",
       "      <td>R</td>\n",
       "      <td>490</td>\n",
       "      <td>2</td>\n",
       "      <td>1950</td>\n",
       "      <td>0</td>\n",
       "    </tr>\n",
       "    <tr>\n",
       "      <th>2</th>\n",
       "      <td>3802</td>\n",
       "      <td>2014</td>\n",
       "      <td>1</td>\n",
       "      <td>0</td>\n",
       "      <td>N</td>\n",
       "      <td>V</td>\n",
       "      <td>V</td>\n",
       "      <td>U</td>\n",
       "      <td>595</td>\n",
       "      <td>3</td>\n",
       "      <td>1945</td>\n",
       "      <td>1</td>\n",
       "    </tr>\n",
       "    <tr>\n",
       "      <th>3</th>\n",
       "      <td>3834</td>\n",
       "      <td>2013</td>\n",
       "      <td>2</td>\n",
       "      <td>0</td>\n",
       "      <td>V</td>\n",
       "      <td>V</td>\n",
       "      <td>V</td>\n",
       "      <td>U</td>\n",
       "      <td>2840</td>\n",
       "      <td>1</td>\n",
       "      <td>1960</td>\n",
       "      <td>0</td>\n",
       "    </tr>\n",
       "    <tr>\n",
       "      <th>4</th>\n",
       "      <td>5053</td>\n",
       "      <td>2014</td>\n",
       "      <td>1</td>\n",
       "      <td>0</td>\n",
       "      <td>V</td>\n",
       "      <td>N</td>\n",
       "      <td>O</td>\n",
       "      <td>R</td>\n",
       "      <td>680</td>\n",
       "      <td>4</td>\n",
       "      <td>1800</td>\n",
       "      <td>0</td>\n",
       "    </tr>\n",
       "  </tbody>\n",
       "</table>\n",
       "</div>"
      ],
      "text/plain": [
       "   Customer Id  YearOfObservation  Insured_Period  Residential  \\\n",
       "0        14663               2013               1            1   \n",
       "1         2037               2015               4            1   \n",
       "2         3802               2014               1            0   \n",
       "3         3834               2013               2            0   \n",
       "4         5053               2014               1            0   \n",
       "\n",
       "  Building_Painted Building_Fenced Garden Settlement  Building Dimension  \\\n",
       "0                N               V      V          U                 290   \n",
       "1                V               N      O          R                 490   \n",
       "2                N               V      V          U                 595   \n",
       "3                V               V      V          U                2840   \n",
       "4                V               N      O          R                 680   \n",
       "\n",
       "   Building_Type  Date_of_Occupancy  Claim  \n",
       "0              1               1960      0  \n",
       "1              2               1950      0  \n",
       "2              3               1945      1  \n",
       "3              1               1960      0  \n",
       "4              4               1800      0  "
      ]
     },
     "execution_count": 91,
     "metadata": {},
     "output_type": "execute_result"
    }
   ],
   "source": [
    "Set_A.head()"
   ]
  },
  {
   "cell_type": "code",
   "execution_count": 92,
   "id": "43a0547f-de41-4ae6-827a-0774f2948071",
   "metadata": {},
   "outputs": [],
   "source": [
    "#Exploratory Data Analyis (EDA)"
   ]
  },
  {
   "cell_type": "code",
   "execution_count": 93,
   "id": "de452624-806f-460a-b887-63c409c6d513",
   "metadata": {},
   "outputs": [],
   "source": [
    "#How many clients have had claims?"
   ]
  },
  {
   "cell_type": "code",
   "execution_count": 94,
   "id": "84a72f8f-77ec-4cd5-8982-24579e8c4a97",
   "metadata": {},
   "outputs": [
    {
     "data": {
      "text/plain": [
       "Text(0.5, 1.0, 'No of Claims')"
      ]
     },
     "execution_count": 94,
     "metadata": {},
     "output_type": "execute_result"
    },
    {
     "data": {
      "image/png": "[encoded data removed]",
      "text/plain": [
       "<Figure size 576x360 with 1 Axes>"
      ]
     },
     "metadata": {
      "needs_background": "light"
     },
     "output_type": "display_data"
    }
   ],
   "source": [
    "plt.figure(figsize=(8,5))\n",
    "sns.set_style(\"darkgrid\")\n",
    "sns.countplot(x=\"Claim\", data=Set_A)\n",
    "\n",
    "plt.title(\"No of Claims\")"
   ]
  },
  {
   "cell_type": "code",
   "execution_count": 95,
   "id": "2dba6be3-9c21-4517-b69e-c85916764d0b",
   "metadata": {},
   "outputs": [
    {
     "data": {
      "text/plain": [
       "Text(0.5, 1.0, 'Building Type')"
      ]
     },
     "execution_count": 95,
     "metadata": {},
     "output_type": "execute_result"
    },
    {
     "data": {
      "image/png": "[encoded data removed]",
      "text/plain": [
       "<Figure size 576x360 with 1 Axes>"
      ]
     },
     "metadata": {},
     "output_type": "display_data"
    }
   ],
   "source": [
    "plt.figure(figsize=(8,5))\n",
    "\n",
    "sns.set_style(\"darkgrid\")\n",
    "sns.countplot(x=\"Building_Type\",hue=\"Residential\",data=Set_A)\n",
    "\n",
    "plt.title(\"Building Type\")"
   ]
  },
  {
   "cell_type": "code",
   "execution_count": 96,
   "id": "9a28a039-668f-440b-bf0d-542d78e6cb06",
   "metadata": {},
   "outputs": [
    {
     "data": {
      "text/plain": [
       "Text(0.5, 1.0, 'Distribution of Buildings')"
      ]
     },
     "execution_count": 96,
     "metadata": {},
     "output_type": "execute_result"
    },
    {
     "data": {
      "image/png": "[encoded data removed]",
      "text/plain": [
       "<Figure size 576x360 with 1 Axes>"
      ]
     },
     "metadata": {},
     "output_type": "display_data"
    }
   ],
   "source": [
    "#Is there more (Residential) buildings in Urban areas\n",
    "\n",
    "plt.figure(figsize=(8,5))\n",
    "\n",
    "sns.countplot(x=\"Settlement\",hue=\"Residential\",data=Set_A)\n",
    "\n",
    "plt.title(\"Distribution of Buildings\")"
   ]
  },
  {
   "cell_type": "code",
   "execution_count": 97,
   "id": "01978f2f-01e7-4c1a-9676-37f07760e9b1",
   "metadata": {
    "tags": []
   },
   "outputs": [],
   "source": [
    "#Distribution of Customer by year of occupancy\n",
    "\n",
    "year = Set_A.groupby(\"Date_of_Occupancy\")[\"Customer Id\"].count().to_frame().reset_index()"
   ]
  },
  {
   "cell_type": "code",
   "execution_count": 98,
   "id": "6f8115d5-9948-49f4-8a67-1bae109bc754",
   "metadata": {},
   "outputs": [
    {
     "data": {
      "text/html": [
       "<div>\n",
       "<style scoped>\n",
       "    .dataframe tbody tr th:only-of-type {\n",
       "        vertical-align: middle;\n",
       "    }\n",
       "\n",
       "    .dataframe tbody tr th {\n",
       "        vertical-align: top;\n",
       "    }\n",
       "\n",
       "    .dataframe thead th {\n",
       "        text-align: right;\n",
       "    }\n",
       "</style>\n",
       "<table border=\"1\" class=\"dataframe\">\n",
       "  <thead>\n",
       "    <tr style=\"text-align: right;\">\n",
       "      <th></th>\n",
       "      <th>Date_of_Occupancy</th>\n",
       "      <th>Customer Id</th>\n",
       "    </tr>\n",
       "  </thead>\n",
       "  <tbody>\n",
       "    <tr>\n",
       "      <th>0</th>\n",
       "      <td>1680</td>\n",
       "      <td>1</td>\n",
       "    </tr>\n",
       "    <tr>\n",
       "      <th>1</th>\n",
       "      <td>1700</td>\n",
       "      <td>1</td>\n",
       "    </tr>\n",
       "    <tr>\n",
       "      <th>2</th>\n",
       "      <td>1800</td>\n",
       "      <td>6</td>\n",
       "    </tr>\n",
       "    <tr>\n",
       "      <th>3</th>\n",
       "      <td>1850</td>\n",
       "      <td>2</td>\n",
       "    </tr>\n",
       "    <tr>\n",
       "      <th>4</th>\n",
       "      <td>1945</td>\n",
       "      <td>1</td>\n",
       "    </tr>\n",
       "  </tbody>\n",
       "</table>\n",
       "</div>"
      ],
      "text/plain": [
       "   Date_of_Occupancy  Customer Id\n",
       "0               1680            1\n",
       "1               1700            1\n",
       "2               1800            6\n",
       "3               1850            2\n",
       "4               1945            1"
      ]
     },
     "execution_count": 98,
     "metadata": {},
     "output_type": "execute_result"
    }
   ],
   "source": [
    "year.head()"
   ]
  },
  {
   "cell_type": "code",
   "execution_count": 99,
   "id": "820e9900-6991-4256-9ba4-c3ef49d43e5a",
   "metadata": {},
   "outputs": [
    {
     "data": {
      "text/plain": [
       "<AxesSubplot:xlabel='Date_of_Occupancy'>"
      ]
     },
     "execution_count": 99,
     "metadata": {},
     "output_type": "execute_result"
    },
    {
     "data": {
      "image/png": "[encoded data removed]",
      "text/plain": [
       "<Figure size 864x432 with 1 Axes>"
      ]
     },
     "metadata": {},
     "output_type": "display_data"
    }
   ],
   "source": [
    "plt.figure(figsize=(12,6))\n",
    "\n",
    "sns.lineplot(x=\"Date_of_Occupancy\", y=Set_A.index, data=Set_A, err_style=None)"
   ]
  },
  {
   "cell_type": "code",
   "execution_count": 100,
   "id": "294f1645-72f2-44ab-8cfe-8089d979a2cd",
   "metadata": {},
   "outputs": [
    {
     "data": {
      "text/plain": [
       "5"
      ]
     },
     "execution_count": 100,
     "metadata": {},
     "output_type": "execute_result"
    }
   ],
   "source": [
    "len(Set_A[\"Insured_Period\"].value_counts())"
   ]
  },
  {
   "cell_type": "code",
   "execution_count": 101,
   "id": "a7c61413-58fc-4d9c-941c-27071ff21a34",
   "metadata": {},
   "outputs": [],
   "source": [
    "wow=year.drop(\"Customer Id\", axis=1)"
   ]
  },
  {
   "cell_type": "code",
   "execution_count": 102,
   "id": "4f725880-ed10-4195-9472-b41a139c8f50",
   "metadata": {},
   "outputs": [],
   "source": [
    "observaton = Set_A[\"YearOfObservation\"].value_counts().to_frame().reset_index()"
   ]
  },
  {
   "cell_type": "code",
   "execution_count": 103,
   "id": "00995747-5209-46b5-afe7-14380cbacaa9",
   "metadata": {},
   "outputs": [
    {
     "data": {
      "text/plain": [
       "Text(0, 0.5, 'No of Policy')"
      ]
     },
     "execution_count": 103,
     "metadata": {},
     "output_type": "execute_result"
    },
    {
     "data": {
      "image/png": "[encoded data removed]",
      "text/plain": [
       "<Figure size 576x360 with 1 Axes>"
      ]
     },
     "metadata": {},
     "output_type": "display_data"
    }
   ],
   "source": [
    "plt.figure(figsize=(8,5))\n",
    "\n",
    "fig = sns.barplot(x=\"index\",y=\"YearOfObservation\",data=observaton,color=\"#437CB6\")\n",
    "\n",
    "plt.title(\"Year of Observation\")\n",
    "\n",
    "fig.set_xlabel(\"Year\")\n",
    "fig.set_ylabel(\"No of Policy\")"
   ]
  },
  {
   "cell_type": "code",
   "execution_count": 104,
   "id": "0d360812-f4c5-447c-93cd-9a016e49f8f1",
   "metadata": {},
   "outputs": [
    {
     "data": {
      "text/plain": [
       "<bound method NDFrame.head of     Customer Id  YearOfObservation  Insured_Period  Residential  \\\n",
       "0         14663               2013               1            1   \n",
       "1          2037               2015               4            1   \n",
       "2          3802               2014               1            0   \n",
       "3          3834               2013               2            0   \n",
       "4          5053               2014               1            0   \n",
       "5          6272               2013               3            0   \n",
       "6          7491               2015               1            1   \n",
       "7          8710               2014               4            0   \n",
       "8          9929               2013               1            0   \n",
       "9         11148               2014               5            1   \n",
       "10        12367               2013               1            0   \n",
       "11        13586               2015               2            0   \n",
       "12        14805               2014               1            1   \n",
       "13        16024               2013               2            0   \n",
       "14        17243               2014               1            1   \n",
       "15        18462               2013               1            1   \n",
       "16        19681               2015               4            1   \n",
       "17        20900               2014               1            0   \n",
       "18        22119               2013               2            0   \n",
       "19        23338               2014               1            0   \n",
       "20        24557               2013               3            0   \n",
       "21        25776               2015               1            1   \n",
       "22        26995               2014               4            0   \n",
       "23        28214               2013               1            0   \n",
       "24        29433               2014               5            1   \n",
       "25        30652               2013               1            0   \n",
       "26        31871               2015               2            0   \n",
       "27        33090               2014               1            1   \n",
       "28        34309               2013               2            0   \n",
       "29        35528               2014               1            1   \n",
       "\n",
       "   Building_Painted Building_Fenced Garden Settlement  Building Dimension  \\\n",
       "0                 N               V      V          U                 290   \n",
       "1                 V               N      O          R                 490   \n",
       "2                 N               V      V          U                 595   \n",
       "3                 V               V      V          U                2840   \n",
       "4                 V               N      O          R                 680   \n",
       "5                 N               V      V          U                 290   \n",
       "6                 V               N      O          R                 490   \n",
       "7                 N               V      V          U                 595   \n",
       "8                 V               V      V          U                2840   \n",
       "9                 V               N      O          R                 680   \n",
       "10                N               V      V          U                 290   \n",
       "11                V               N      O          R                 490   \n",
       "12                N               V      V          U                 595   \n",
       "13                V               V      V          U                2840   \n",
       "14                V               N      O          R                 680   \n",
       "15                N               V      V          U                 290   \n",
       "16                V               N      O          R                 490   \n",
       "17                N               V      V          U                 595   \n",
       "18                V               V      V          U                2840   \n",
       "19                V               N      O          R                 680   \n",
       "20                N               V      V          U                 290   \n",
       "21                V               N      O          R                 490   \n",
       "22                N               V      V          U                 595   \n",
       "23                V               V      V          U                2840   \n",
       "24                V               N      O          R                 680   \n",
       "25                N               V      V          U                 290   \n",
       "26                V               N      O          R                 490   \n",
       "27                N               V      V          U                 595   \n",
       "28                V               V      V          U                2840   \n",
       "29                V               N      O          R                 680   \n",
       "\n",
       "    Building_Type  Date_of_Occupancy  Claim  \n",
       "0               1               1960      0  \n",
       "1               2               1950      0  \n",
       "2               3               1945      1  \n",
       "3               1               1960      0  \n",
       "4               4               1800      0  \n",
       "5               1               1960      0  \n",
       "6               2               1700      0  \n",
       "7               3               1960      1  \n",
       "8               1               1850      0  \n",
       "9               4               1800      0  \n",
       "10              1               1960      0  \n",
       "11              2               1680      0  \n",
       "12              3               1960      1  \n",
       "13              1               1960      0  \n",
       "14              4               1800      0  \n",
       "15              1               1960      0  \n",
       "16              2               1950      0  \n",
       "17              3               2000      1  \n",
       "18              1               1960      0  \n",
       "19              4               1800      0  \n",
       "20              1               1960      0  \n",
       "21              2               2010      0  \n",
       "22              3               1960      1  \n",
       "23              1               1850      0  \n",
       "24              4               1800      0  \n",
       "25              1               1960      0  \n",
       "26              2               2000      0  \n",
       "27              3               1960      1  \n",
       "28              1               1960      0  \n",
       "29              4               1800      0  >"
      ]
     },
     "execution_count": 104,
     "metadata": {},
     "output_type": "execute_result"
    }
   ],
   "source": [
    "Set_A.head"
   ]
  },
  {
   "cell_type": "code",
   "execution_count": 105,
   "id": "2b256ae4-d39c-4c8d-bd03-2fdd3f7150da",
   "metadata": {},
   "outputs": [
    {
     "data": {
      "text/html": [
       "<div>\n",
       "<style scoped>\n",
       "    .dataframe tbody tr th:only-of-type {\n",
       "        vertical-align: middle;\n",
       "    }\n",
       "\n",
       "    .dataframe tbody tr th {\n",
       "        vertical-align: top;\n",
       "    }\n",
       "\n",
       "    .dataframe thead th {\n",
       "        text-align: right;\n",
       "    }\n",
       "</style>\n",
       "<table border=\"1\" class=\"dataframe\">\n",
       "  <thead>\n",
       "    <tr style=\"text-align: right;\">\n",
       "      <th></th>\n",
       "      <th>Building Dimension</th>\n",
       "    </tr>\n",
       "  </thead>\n",
       "  <tbody>\n",
       "    <tr>\n",
       "      <th>0</th>\n",
       "      <td>290</td>\n",
       "    </tr>\n",
       "    <tr>\n",
       "      <th>1</th>\n",
       "      <td>490</td>\n",
       "    </tr>\n",
       "    <tr>\n",
       "      <th>6</th>\n",
       "      <td>490</td>\n",
       "    </tr>\n",
       "    <tr>\n",
       "      <th>9</th>\n",
       "      <td>680</td>\n",
       "    </tr>\n",
       "    <tr>\n",
       "      <th>12</th>\n",
       "      <td>595</td>\n",
       "    </tr>\n",
       "  </tbody>\n",
       "</table>\n",
       "</div>"
      ],
      "text/plain": [
       "    Building Dimension\n",
       "0                  290\n",
       "1                  490\n",
       "6                  490\n",
       "9                  680\n",
       "12                 595"
      ]
     },
     "execution_count": 105,
     "metadata": {},
     "output_type": "execute_result"
    }
   ],
   "source": [
    "#creating a new variable to plot building dimensions\n",
    "\n",
    "residential=Set_A[Set_A[\"Residential\"]==1][\"Building Dimension\"].to_frame()\n",
    "non_residential=Set_A[Set_A[\"Residential\"]==0][\"Building Dimension\"].to_frame()\n",
    "residential.head()"
   ]
  },
  {
   "cell_type": "code",
   "execution_count": 141,
   "id": "52e3775a-c4c8-481f-b500-fe427142ad63",
   "metadata": {},
   "outputs": [
    {
     "ename": "TypeError",
     "evalue": "inner() got multiple values for argument 'ax'",
     "output_type": "error",
     "traceback": [
      "\u001b[1;31m---------------------------------------------------------------------------\u001b[0m",
      "\u001b[1;31mTypeError\u001b[0m                                 Traceback (most recent call last)",
      "Input \u001b[1;32mIn [141]\u001b[0m, in \u001b[0;36m<cell line: 15>\u001b[1;34m()\u001b[0m\n\u001b[0;32m      1\u001b[0m plt\u001b[38;5;241m.\u001b[39msubplots(\u001b[38;5;241m1\u001b[39m,\u001b[38;5;241m2\u001b[39m, figsize\u001b[38;5;241m=\u001b[39m(\u001b[38;5;241m25\u001b[39m,\u001b[38;5;241m8\u001b[39m))\n\u001b[0;32m      5\u001b[0m \u001b[38;5;66;03m#ax=sns.distplot(non_residential[\"Building Dimension\"], kde=False, hist_kws={\"range\":[0,20000]}, ax=axes[0])\u001b[39;00m\n\u001b[0;32m      6\u001b[0m \u001b[38;5;66;03m#ax1=sns.distplot(residential[\"Building Dimension\"], kde=False, hist_kws={\"range\":[0,20000]}, ax=axes[1])\u001b[39;00m\n\u001b[0;32m      7\u001b[0m \n\u001b[1;32m   (...)\u001b[0m\n\u001b[0;32m     12\u001b[0m \u001b[38;5;66;03m#ax.set_xlim(0,20000)\u001b[39;00m\n\u001b[0;32m     13\u001b[0m \u001b[38;5;66;03m#ax1.set_xlim(0,20000)\u001b[39;00m\n\u001b[1;32m---> 15\u001b[0m \u001b[43mplt\u001b[49m\u001b[38;5;241;43m.\u001b[39;49m\u001b[43mhist\u001b[49m\u001b[43m(\u001b[49m\u001b[43mnon_residential\u001b[49m\u001b[43m[\u001b[49m\u001b[38;5;124;43m\"\u001b[39;49m\u001b[38;5;124;43mBuilding Dimension\u001b[39;49m\u001b[38;5;124;43m\"\u001b[39;49m\u001b[43m]\u001b[49m\u001b[43m,\u001b[49m\u001b[43m \u001b[49m\u001b[43mcolor\u001b[49m\u001b[43m \u001b[49m\u001b[38;5;241;43m=\u001b[39;49m\u001b[43m \u001b[49m\u001b[38;5;124;43m'\u001b[39;49m\u001b[38;5;124;43mblue\u001b[39;49m\u001b[38;5;124;43m'\u001b[39;49m\u001b[43m,\u001b[49m\u001b[43m \u001b[49m\u001b[43medgecolor\u001b[49m\u001b[43m \u001b[49m\u001b[38;5;241;43m=\u001b[39;49m\u001b[43m \u001b[49m\u001b[38;5;124;43m'\u001b[39;49m\u001b[38;5;124;43mblack\u001b[39;49m\u001b[38;5;124;43m'\u001b[39;49m\u001b[43m,\u001b[49m\u001b[43m \u001b[49m\u001b[43mbins\u001b[49m\u001b[43m \u001b[49m\u001b[38;5;241;43m=\u001b[39;49m\u001b[43m \u001b[49m\u001b[38;5;28;43mint\u001b[39;49m\u001b[43m(\u001b[49m\u001b[38;5;241;43m180\u001b[39;49m\u001b[38;5;241;43m/\u001b[39;49m\u001b[38;5;241;43m5\u001b[39;49m\u001b[43m)\u001b[49m\u001b[43m,\u001b[49m\u001b[43m \u001b[49m\u001b[43max\u001b[49m\u001b[38;5;241;43m=\u001b[39;49m\u001b[43maxes\u001b[49m\u001b[43m[\u001b[49m\u001b[38;5;241;43m0\u001b[39;49m\u001b[43m]\u001b[49m\u001b[43m)\u001b[49m\n\u001b[0;32m     17\u001b[0m \u001b[38;5;66;03m#ax1= plt.hist(residential[\"Building Dimension\"], color = 'blue', edgecolor = 'black', bins = int(180/5), ax=axes[1])\u001b[39;00m\n\u001b[0;32m     18\u001b[0m \n\u001b[0;32m     19\u001b[0m \u001b[38;5;66;03m#Add Labels\u001b[39;00m\n\u001b[0;32m     20\u001b[0m ax\u001b[38;5;241m.\u001b[39mtitle\u001b[38;5;241m.\u001b[39mset_text(\u001b[38;5;124m\"\u001b[39m\u001b[38;5;124mNon-Residential\u001b[39m\u001b[38;5;124m\"\u001b[39m)\n",
      "File \u001b[1;32m~\\anaconda3\\lib\\site-packages\\matplotlib\\pyplot.py:2602\u001b[0m, in \u001b[0;36mhist\u001b[1;34m(x, bins, range, density, weights, cumulative, bottom, histtype, align, orientation, rwidth, log, color, label, stacked, data, **kwargs)\u001b[0m\n\u001b[0;32m   2596\u001b[0m \u001b[38;5;129m@_copy_docstring_and_deprecators\u001b[39m(Axes\u001b[38;5;241m.\u001b[39mhist)\n\u001b[0;32m   2597\u001b[0m \u001b[38;5;28;01mdef\u001b[39;00m \u001b[38;5;21mhist\u001b[39m(\n\u001b[0;32m   2598\u001b[0m         x, bins\u001b[38;5;241m=\u001b[39m\u001b[38;5;28;01mNone\u001b[39;00m, \u001b[38;5;28mrange\u001b[39m\u001b[38;5;241m=\u001b[39m\u001b[38;5;28;01mNone\u001b[39;00m, density\u001b[38;5;241m=\u001b[39m\u001b[38;5;28;01mFalse\u001b[39;00m, weights\u001b[38;5;241m=\u001b[39m\u001b[38;5;28;01mNone\u001b[39;00m,\n\u001b[0;32m   2599\u001b[0m         cumulative\u001b[38;5;241m=\u001b[39m\u001b[38;5;28;01mFalse\u001b[39;00m, bottom\u001b[38;5;241m=\u001b[39m\u001b[38;5;28;01mNone\u001b[39;00m, histtype\u001b[38;5;241m=\u001b[39m\u001b[38;5;124m'\u001b[39m\u001b[38;5;124mbar\u001b[39m\u001b[38;5;124m'\u001b[39m, align\u001b[38;5;241m=\u001b[39m\u001b[38;5;124m'\u001b[39m\u001b[38;5;124mmid\u001b[39m\u001b[38;5;124m'\u001b[39m,\n\u001b[0;32m   2600\u001b[0m         orientation\u001b[38;5;241m=\u001b[39m\u001b[38;5;124m'\u001b[39m\u001b[38;5;124mvertical\u001b[39m\u001b[38;5;124m'\u001b[39m, rwidth\u001b[38;5;241m=\u001b[39m\u001b[38;5;28;01mNone\u001b[39;00m, log\u001b[38;5;241m=\u001b[39m\u001b[38;5;28;01mFalse\u001b[39;00m, color\u001b[38;5;241m=\u001b[39m\u001b[38;5;28;01mNone\u001b[39;00m,\n\u001b[0;32m   2601\u001b[0m         label\u001b[38;5;241m=\u001b[39m\u001b[38;5;28;01mNone\u001b[39;00m, stacked\u001b[38;5;241m=\u001b[39m\u001b[38;5;28;01mFalse\u001b[39;00m, \u001b[38;5;241m*\u001b[39m, data\u001b[38;5;241m=\u001b[39m\u001b[38;5;28;01mNone\u001b[39;00m, \u001b[38;5;241m*\u001b[39m\u001b[38;5;241m*\u001b[39mkwargs):\n\u001b[1;32m-> 2602\u001b[0m     \u001b[38;5;28;01mreturn\u001b[39;00m gca()\u001b[38;5;241m.\u001b[39mhist(\n\u001b[0;32m   2603\u001b[0m         x, bins\u001b[38;5;241m=\u001b[39mbins, \u001b[38;5;28mrange\u001b[39m\u001b[38;5;241m=\u001b[39m\u001b[38;5;28mrange\u001b[39m, density\u001b[38;5;241m=\u001b[39mdensity, weights\u001b[38;5;241m=\u001b[39mweights,\n\u001b[0;32m   2604\u001b[0m         cumulative\u001b[38;5;241m=\u001b[39mcumulative, bottom\u001b[38;5;241m=\u001b[39mbottom, histtype\u001b[38;5;241m=\u001b[39mhisttype,\n\u001b[0;32m   2605\u001b[0m         align\u001b[38;5;241m=\u001b[39malign, orientation\u001b[38;5;241m=\u001b[39morientation, rwidth\u001b[38;5;241m=\u001b[39mrwidth, log\u001b[38;5;241m=\u001b[39mlog,\n\u001b[0;32m   2606\u001b[0m         color\u001b[38;5;241m=\u001b[39mcolor, label\u001b[38;5;241m=\u001b[39mlabel, stacked\u001b[38;5;241m=\u001b[39mstacked,\n\u001b[0;32m   2607\u001b[0m         \u001b[38;5;241m*\u001b[39m\u001b[38;5;241m*\u001b[39m({\u001b[38;5;124m\"\u001b[39m\u001b[38;5;124mdata\u001b[39m\u001b[38;5;124m\"\u001b[39m: data} \u001b[38;5;28;01mif\u001b[39;00m data \u001b[38;5;129;01mis\u001b[39;00m \u001b[38;5;129;01mnot\u001b[39;00m \u001b[38;5;28;01mNone\u001b[39;00m \u001b[38;5;28;01melse\u001b[39;00m {}), \u001b[38;5;241m*\u001b[39m\u001b[38;5;241m*\u001b[39mkwargs)\n",
      "\u001b[1;31mTypeError\u001b[0m: inner() got multiple values for argument 'ax'"
     ]
    },
    {
     "data": {
      "image/png": "[encoded data removed]",
      "text/plain": [
       "<Figure size 1800x576 with 2 Axes>"
      ]
     },
     "metadata": {},
     "output_type": "display_data"
    }
   ],
   "source": [
    "plt.subplots(1,2, figsize=(25,8))\n",
    "\n",
    "\n",
    "\n",
    "#ax=sns.distplot(non_residential[\"Building Dimension\"], kde=False, hist_kws={\"range\":[0,20000]}, ax=axes[0])\n",
    "#ax1=sns.distplot(residential[\"Building Dimension\"], kde=False, hist_kws={\"range\":[0,20000]}, ax=axes[1])\n",
    "\n",
    "\n",
    "#ax=sns.histplot(non_residential = \"Building Dimension\", hist_kws={\"range\":[0,20000]}, color=\"Blue\", vertical=False, norm_hist=False, ax=axes[0])\n",
    "#ax1=sns.histplot(residential =\"Building Dimension\", hist_kws={\"range\":[0,20000]},color=\"Blue\", ax=axes[1])\n",
    "\n",
    "#ax.set_xlim(0,20000)\n",
    "#ax1.set_xlim(0,20000)\n",
    "\n",
    "plt.hist(non_residential[\"Building Dimension\"], color = 'blue', edgecolor = 'black', bins = int(180/5), ax=axes[0])\n",
    "\n",
    "#ax1= plt.hist(residential[\"Building Dimension\"], color = 'blue', edgecolor = 'black', bins = int(180/5), ax=axes[1])\n",
    "\n",
    "#Add Labels\n",
    "ax.title.set_text(\"Non-Residential\")\n",
    "ax1.title.set_text(\"Residential\")\n",
    "plt.suptitle(\"Distribution of Building Dimension\", fontsize=14)"
   ]
  },
  {
   "cell_type": "code",
   "execution_count": 142,
   "id": "4c89c5ab-85ea-42f1-8e47-bc3d55d7adfb",
   "metadata": {},
   "outputs": [
    {
     "data": {
      "text/html": [
       "<div>\n",
       "<style scoped>\n",
       "    .dataframe tbody tr th:only-of-type {\n",
       "        vertical-align: middle;\n",
       "    }\n",
       "\n",
       "    .dataframe tbody tr th {\n",
       "        vertical-align: top;\n",
       "    }\n",
       "\n",
       "    .dataframe thead th {\n",
       "        text-align: right;\n",
       "    }\n",
       "</style>\n",
       "<table border=\"1\" class=\"dataframe\">\n",
       "  <thead>\n",
       "    <tr style=\"text-align: right;\">\n",
       "      <th></th>\n",
       "      <th>YearOfObservation</th>\n",
       "      <th>Insured_Period</th>\n",
       "    </tr>\n",
       "  </thead>\n",
       "  <tbody>\n",
       "    <tr>\n",
       "      <th>0</th>\n",
       "      <td>2013</td>\n",
       "      <td>1</td>\n",
       "    </tr>\n",
       "    <tr>\n",
       "      <th>1</th>\n",
       "      <td>2015</td>\n",
       "      <td>4</td>\n",
       "    </tr>\n",
       "    <tr>\n",
       "      <th>2</th>\n",
       "      <td>2014</td>\n",
       "      <td>1</td>\n",
       "    </tr>\n",
       "    <tr>\n",
       "      <th>3</th>\n",
       "      <td>2013</td>\n",
       "      <td>2</td>\n",
       "    </tr>\n",
       "    <tr>\n",
       "      <th>4</th>\n",
       "      <td>2014</td>\n",
       "      <td>1</td>\n",
       "    </tr>\n",
       "  </tbody>\n",
       "</table>\n",
       "</div>"
      ],
      "text/plain": [
       "   YearOfObservation  Insured_Period\n",
       "0               2013               1\n",
       "1               2015               4\n",
       "2               2014               1\n",
       "3               2013               2\n",
       "4               2014               1"
      ]
     },
     "execution_count": 142,
     "metadata": {},
     "output_type": "execute_result"
    }
   ],
   "source": [
    "policy=Set_A[[\"YearOfObservation\",\"Insured_Period\"]]\n",
    "policy.head()"
   ]
  },
  {
   "cell_type": "code",
   "execution_count": 143,
   "id": "06c535d8-9535-4fd3-b93b-89e884843420",
   "metadata": {},
   "outputs": [
    {
     "data": {
      "text/html": [
       "<div>\n",
       "<style scoped>\n",
       "    .dataframe tbody tr th:only-of-type {\n",
       "        vertical-align: middle;\n",
       "    }\n",
       "\n",
       "    .dataframe tbody tr th {\n",
       "        vertical-align: top;\n",
       "    }\n",
       "\n",
       "    .dataframe thead th {\n",
       "        text-align: right;\n",
       "    }\n",
       "</style>\n",
       "<table border=\"1\" class=\"dataframe\">\n",
       "  <thead>\n",
       "    <tr style=\"text-align: right;\">\n",
       "      <th></th>\n",
       "      <th>index</th>\n",
       "      <th>Insured_Period</th>\n",
       "    </tr>\n",
       "  </thead>\n",
       "  <tbody>\n",
       "    <tr>\n",
       "      <th>0</th>\n",
       "      <td>1</td>\n",
       "      <td>16</td>\n",
       "    </tr>\n",
       "    <tr>\n",
       "      <th>1</th>\n",
       "      <td>2</td>\n",
       "      <td>6</td>\n",
       "    </tr>\n",
       "    <tr>\n",
       "      <th>2</th>\n",
       "      <td>4</td>\n",
       "      <td>4</td>\n",
       "    </tr>\n",
       "    <tr>\n",
       "      <th>3</th>\n",
       "      <td>3</td>\n",
       "      <td>2</td>\n",
       "    </tr>\n",
       "    <tr>\n",
       "      <th>4</th>\n",
       "      <td>5</td>\n",
       "      <td>2</td>\n",
       "    </tr>\n",
       "  </tbody>\n",
       "</table>\n",
       "</div>"
      ],
      "text/plain": [
       "   index  Insured_Period\n",
       "0      1              16\n",
       "1      2               6\n",
       "2      4               4\n",
       "3      3               2\n",
       "4      5               2"
      ]
     },
     "execution_count": 143,
     "metadata": {},
     "output_type": "execute_result"
    }
   ],
   "source": [
    "policy2=Set_A[\"Insured_Period\"].value_counts().to_frame().reset_index()\n",
    "policy2.head()"
   ]
  },
  {
   "cell_type": "code",
   "execution_count": 144,
   "id": "efc60ce8-677c-4a6a-878e-6ac4ef44d5f7",
   "metadata": {},
   "outputs": [
    {
     "name": "stderr",
     "output_type": "stream",
     "text": [
      "C:\\Users\\EugeneLabuschagne\\anaconda3\\lib\\site-packages\\seaborn\\distributions.py:2619: FutureWarning: `distplot` is a deprecated function and will be removed in a future version. Please adapt your code to use either `displot` (a figure-level function with similar flexibility) or `histplot` (an axes-level function for histograms).\n",
      "  warnings.warn(msg, FutureWarning)\n"
     ]
    },
    {
     "data": {
      "text/plain": [
       "Text(0.5, 1.0, 'Date of Occupancy')"
      ]
     },
     "execution_count": 144,
     "metadata": {},
     "output_type": "execute_result"
    },
    {
     "data": {
      "image/png": "[encoded data removed]",
      "text/plain": [
       "<Figure size 720x432 with 1 Axes>"
      ]
     },
     "metadata": {},
     "output_type": "display_data"
    }
   ],
   "source": [
    "#Date of Occupancy\n",
    "\n",
    "plt.figure(figsize=(10,6))\n",
    "\n",
    "ax=sns.distplot(Set_A[\"Date_of_Occupancy\"],kde=False,hist_kws={\"range\":[1800,2000]}, bins=40)\n",
    "\n",
    "ax.set_xlim(1800,2000)\n",
    "\n",
    "plt.title(\"Date of Occupancy\")"
   ]
  },
  {
   "cell_type": "code",
   "execution_count": 146,
   "id": "1a07d0e5-4eb5-41f7-91c8-aeec37022a10",
   "metadata": {},
   "outputs": [
    {
     "data": {
      "text/html": [
       "<div>\n",
       "<style scoped>\n",
       "    .dataframe tbody tr th:only-of-type {\n",
       "        vertical-align: middle;\n",
       "    }\n",
       "\n",
       "    .dataframe tbody tr th {\n",
       "        vertical-align: top;\n",
       "    }\n",
       "\n",
       "    .dataframe thead th {\n",
       "        text-align: right;\n",
       "    }\n",
       "</style>\n",
       "<table border=\"1\" class=\"dataframe\">\n",
       "  <thead>\n",
       "    <tr style=\"text-align: right;\">\n",
       "      <th></th>\n",
       "      <th>Customer Id</th>\n",
       "      <th>YearOfObservation</th>\n",
       "      <th>Insured_Period</th>\n",
       "      <th>Residential</th>\n",
       "      <th>Building_Painted</th>\n",
       "      <th>Building_Fenced</th>\n",
       "      <th>Garden</th>\n",
       "      <th>Settlement</th>\n",
       "      <th>Building Dimension</th>\n",
       "      <th>Building_Type</th>\n",
       "      <th>Date_of_Occupancy</th>\n",
       "      <th>Claim</th>\n",
       "    </tr>\n",
       "  </thead>\n",
       "  <tbody>\n",
       "    <tr>\n",
       "      <th>2</th>\n",
       "      <td>3802</td>\n",
       "      <td>2014</td>\n",
       "      <td>1</td>\n",
       "      <td>0</td>\n",
       "      <td>N</td>\n",
       "      <td>V</td>\n",
       "      <td>V</td>\n",
       "      <td>U</td>\n",
       "      <td>595</td>\n",
       "      <td>3</td>\n",
       "      <td>1945</td>\n",
       "      <td>1</td>\n",
       "    </tr>\n",
       "    <tr>\n",
       "      <th>7</th>\n",
       "      <td>8710</td>\n",
       "      <td>2014</td>\n",
       "      <td>4</td>\n",
       "      <td>0</td>\n",
       "      <td>N</td>\n",
       "      <td>V</td>\n",
       "      <td>V</td>\n",
       "      <td>U</td>\n",
       "      <td>595</td>\n",
       "      <td>3</td>\n",
       "      <td>1960</td>\n",
       "      <td>1</td>\n",
       "    </tr>\n",
       "    <tr>\n",
       "      <th>12</th>\n",
       "      <td>14805</td>\n",
       "      <td>2014</td>\n",
       "      <td>1</td>\n",
       "      <td>1</td>\n",
       "      <td>N</td>\n",
       "      <td>V</td>\n",
       "      <td>V</td>\n",
       "      <td>U</td>\n",
       "      <td>595</td>\n",
       "      <td>3</td>\n",
       "      <td>1960</td>\n",
       "      <td>1</td>\n",
       "    </tr>\n",
       "    <tr>\n",
       "      <th>17</th>\n",
       "      <td>20900</td>\n",
       "      <td>2014</td>\n",
       "      <td>1</td>\n",
       "      <td>0</td>\n",
       "      <td>N</td>\n",
       "      <td>V</td>\n",
       "      <td>V</td>\n",
       "      <td>U</td>\n",
       "      <td>595</td>\n",
       "      <td>3</td>\n",
       "      <td>2000</td>\n",
       "      <td>1</td>\n",
       "    </tr>\n",
       "    <tr>\n",
       "      <th>22</th>\n",
       "      <td>26995</td>\n",
       "      <td>2014</td>\n",
       "      <td>4</td>\n",
       "      <td>0</td>\n",
       "      <td>N</td>\n",
       "      <td>V</td>\n",
       "      <td>V</td>\n",
       "      <td>U</td>\n",
       "      <td>595</td>\n",
       "      <td>3</td>\n",
       "      <td>1960</td>\n",
       "      <td>1</td>\n",
       "    </tr>\n",
       "  </tbody>\n",
       "</table>\n",
       "</div>"
      ],
      "text/plain": [
       "    Customer Id  YearOfObservation  Insured_Period  Residential  \\\n",
       "2          3802               2014               1            0   \n",
       "7          8710               2014               4            0   \n",
       "12        14805               2014               1            1   \n",
       "17        20900               2014               1            0   \n",
       "22        26995               2014               4            0   \n",
       "\n",
       "   Building_Painted Building_Fenced Garden Settlement  Building Dimension  \\\n",
       "2                 N               V      V          U                 595   \n",
       "7                 N               V      V          U                 595   \n",
       "12                N               V      V          U                 595   \n",
       "17                N               V      V          U                 595   \n",
       "22                N               V      V          U                 595   \n",
       "\n",
       "    Building_Type  Date_of_Occupancy  Claim  \n",
       "2               3               1945      1  \n",
       "7               3               1960      1  \n",
       "12              3               1960      1  \n",
       "17              3               2000      1  \n",
       "22              3               1960      1  "
      ]
     },
     "execution_count": 146,
     "metadata": {},
     "output_type": "execute_result"
    }
   ],
   "source": [
    "#Features of those who claimed\n",
    "\n",
    "claim = Set_A[Set_A[\"Claim\"]==1]\n",
    "claim.head()"
   ]
  },
  {
   "cell_type": "code",
   "execution_count": 147,
   "id": "5d781e97-00ae-40fa-bc42-f7cc314e2d2f",
   "metadata": {},
   "outputs": [
    {
     "data": {
      "text/plain": [
       "Text(0.5, 1.0, 'Fenced Buildings')"
      ]
     },
     "execution_count": 147,
     "metadata": {},
     "output_type": "execute_result"
    },
    {
     "data": {
      "image/png": "[encoded data removed]",
      "text/plain": [
       "<Figure size 864x576 with 4 Axes>"
      ]
     },
     "metadata": {},
     "output_type": "display_data"
    }
   ],
   "source": [
    "f,  ((ax1, ax2), (ax3, ax4)) = plt.subplots(nrows=2,ncols=2, figsize=(12,8))\n",
    "f.tight_layout()\n",
    "f.subplots_adjust(wspace=0.2, hspace=0.5)\n",
    "\n",
    "sns.countplot(x=\"Building_Type\",ax=ax1, data=claim)\n",
    "sns.countplot(x=\"Residential\",ax=ax2, data=claim)\n",
    "sns.countplot(x=\"Settlement\",ax=ax3, data=claim)\n",
    "sns.countplot(x=\"Building_Fenced\",ax=ax4, data=claim)\n",
    "\n",
    "ax1.set_title(\"Building Type\")\n",
    "ax2.set_title(\"Residential or Others\")\n",
    "ax3.set_title(\"Settlement Area\")\n",
    "ax4.set_title(\"Fenced Buildings\")"
   ]
  },
  {
   "cell_type": "code",
   "execution_count": 148,
   "id": "03ad24a4-ac35-4364-a406-8c6b2c5e8023",
   "metadata": {},
   "outputs": [
    {
     "data": {
      "text/html": [
       "<div>\n",
       "<style scoped>\n",
       "    .dataframe tbody tr th:only-of-type {\n",
       "        vertical-align: middle;\n",
       "    }\n",
       "\n",
       "    .dataframe tbody tr th {\n",
       "        vertical-align: top;\n",
       "    }\n",
       "\n",
       "    .dataframe thead th {\n",
       "        text-align: right;\n",
       "    }\n",
       "</style>\n",
       "<table border=\"1\" class=\"dataframe\">\n",
       "  <thead>\n",
       "    <tr style=\"text-align: right;\">\n",
       "      <th></th>\n",
       "      <th>Date_of_Occupancy</th>\n",
       "      <th>Claim</th>\n",
       "    </tr>\n",
       "  </thead>\n",
       "  <tbody>\n",
       "    <tr>\n",
       "      <th>0</th>\n",
       "      <td>1945</td>\n",
       "      <td>1</td>\n",
       "    </tr>\n",
       "    <tr>\n",
       "      <th>1</th>\n",
       "      <td>1960</td>\n",
       "      <td>4</td>\n",
       "    </tr>\n",
       "    <tr>\n",
       "      <th>2</th>\n",
       "      <td>2000</td>\n",
       "      <td>1</td>\n",
       "    </tr>\n",
       "  </tbody>\n",
       "</table>\n",
       "</div>"
      ],
      "text/plain": [
       "   Date_of_Occupancy  Claim\n",
       "0               1945      1\n",
       "1               1960      4\n",
       "2               2000      1"
      ]
     },
     "execution_count": 148,
     "metadata": {},
     "output_type": "execute_result"
    }
   ],
   "source": [
    "year_claim=claim.groupby(\"Date_of_Occupancy\")[\"Claim\"].count().to_frame().reset_index()\n",
    "year_claim.head()"
   ]
  },
  {
   "cell_type": "code",
   "execution_count": 149,
   "id": "354f5bf1-8520-4b0c-9e15-bd901599fa65",
   "metadata": {},
   "outputs": [
    {
     "name": "stderr",
     "output_type": "stream",
     "text": [
      "C:\\Users\\EugeneLabuschagne\\anaconda3\\lib\\site-packages\\seaborn\\distributions.py:2619: FutureWarning: `distplot` is a deprecated function and will be removed in a future version. Please adapt your code to use either `displot` (a figure-level function with similar flexibility) or `histplot` (an axes-level function for histograms).\n",
      "  warnings.warn(msg, FutureWarning)\n"
     ]
    },
    {
     "data": {
      "text/plain": [
       "Text(0.5, 1.0, 'Year of Occupancy')"
      ]
     },
     "execution_count": 149,
     "metadata": {},
     "output_type": "execute_result"
    },
    {
     "data": {
      "image/png": "[encoded data removed]",
      "text/plain": [
       "<Figure size 864x432 with 1 Axes>"
      ]
     },
     "metadata": {},
     "output_type": "display_data"
    }
   ],
   "source": [
    "plt.figure(figsize=(12,6))\n",
    "\n",
    "sns.distplot(year_claim[\"Date_of_Occupancy\"])\n",
    "\n",
    "plt.title(\"Year of Occupancy\")"
   ]
  },
  {
   "cell_type": "code",
   "execution_count": 150,
   "id": "934c3ae4-ccf2-41d5-bd1f-d6573225a49b",
   "metadata": {},
   "outputs": [
    {
     "data": {
      "text/html": [
       "<div>\n",
       "<style scoped>\n",
       "    .dataframe tbody tr th:only-of-type {\n",
       "        vertical-align: middle;\n",
       "    }\n",
       "\n",
       "    .dataframe tbody tr th {\n",
       "        vertical-align: top;\n",
       "    }\n",
       "\n",
       "    .dataframe thead th {\n",
       "        text-align: right;\n",
       "    }\n",
       "</style>\n",
       "<table border=\"1\" class=\"dataframe\">\n",
       "  <thead>\n",
       "    <tr style=\"text-align: right;\">\n",
       "      <th></th>\n",
       "      <th>Customer Id</th>\n",
       "      <th>YearOfObservation</th>\n",
       "      <th>Insured_Period</th>\n",
       "      <th>Residential</th>\n",
       "      <th>Building_Painted</th>\n",
       "      <th>Building_Fenced</th>\n",
       "      <th>Garden</th>\n",
       "      <th>Settlement</th>\n",
       "      <th>Building Dimension</th>\n",
       "      <th>Building_Type</th>\n",
       "      <th>Date_of_Occupancy</th>\n",
       "      <th>Claim</th>\n",
       "    </tr>\n",
       "  </thead>\n",
       "  <tbody>\n",
       "    <tr>\n",
       "      <th>0</th>\n",
       "      <td>14663</td>\n",
       "      <td>2013</td>\n",
       "      <td>1</td>\n",
       "      <td>1</td>\n",
       "      <td>N</td>\n",
       "      <td>V</td>\n",
       "      <td>V</td>\n",
       "      <td>U</td>\n",
       "      <td>290</td>\n",
       "      <td>1</td>\n",
       "      <td>1960</td>\n",
       "      <td>0</td>\n",
       "    </tr>\n",
       "    <tr>\n",
       "      <th>1</th>\n",
       "      <td>2037</td>\n",
       "      <td>2015</td>\n",
       "      <td>4</td>\n",
       "      <td>1</td>\n",
       "      <td>V</td>\n",
       "      <td>N</td>\n",
       "      <td>O</td>\n",
       "      <td>R</td>\n",
       "      <td>490</td>\n",
       "      <td>2</td>\n",
       "      <td>1950</td>\n",
       "      <td>0</td>\n",
       "    </tr>\n",
       "    <tr>\n",
       "      <th>2</th>\n",
       "      <td>3802</td>\n",
       "      <td>2014</td>\n",
       "      <td>1</td>\n",
       "      <td>0</td>\n",
       "      <td>N</td>\n",
       "      <td>V</td>\n",
       "      <td>V</td>\n",
       "      <td>U</td>\n",
       "      <td>595</td>\n",
       "      <td>3</td>\n",
       "      <td>1945</td>\n",
       "      <td>1</td>\n",
       "    </tr>\n",
       "    <tr>\n",
       "      <th>3</th>\n",
       "      <td>3834</td>\n",
       "      <td>2013</td>\n",
       "      <td>2</td>\n",
       "      <td>0</td>\n",
       "      <td>V</td>\n",
       "      <td>V</td>\n",
       "      <td>V</td>\n",
       "      <td>U</td>\n",
       "      <td>2840</td>\n",
       "      <td>1</td>\n",
       "      <td>1960</td>\n",
       "      <td>0</td>\n",
       "    </tr>\n",
       "    <tr>\n",
       "      <th>4</th>\n",
       "      <td>5053</td>\n",
       "      <td>2014</td>\n",
       "      <td>1</td>\n",
       "      <td>0</td>\n",
       "      <td>V</td>\n",
       "      <td>N</td>\n",
       "      <td>O</td>\n",
       "      <td>R</td>\n",
       "      <td>680</td>\n",
       "      <td>4</td>\n",
       "      <td>1800</td>\n",
       "      <td>0</td>\n",
       "    </tr>\n",
       "  </tbody>\n",
       "</table>\n",
       "</div>"
      ],
      "text/plain": [
       "   Customer Id  YearOfObservation  Insured_Period  Residential  \\\n",
       "0        14663               2013               1            1   \n",
       "1         2037               2015               4            1   \n",
       "2         3802               2014               1            0   \n",
       "3         3834               2013               2            0   \n",
       "4         5053               2014               1            0   \n",
       "\n",
       "  Building_Painted Building_Fenced Garden Settlement  Building Dimension  \\\n",
       "0                N               V      V          U                 290   \n",
       "1                V               N      O          R                 490   \n",
       "2                N               V      V          U                 595   \n",
       "3                V               V      V          U                2840   \n",
       "4                V               N      O          R                 680   \n",
       "\n",
       "   Building_Type  Date_of_Occupancy  Claim  \n",
       "0              1               1960      0  \n",
       "1              2               1950      0  \n",
       "2              3               1945      1  \n",
       "3              1               1960      0  \n",
       "4              4               1800      0  "
      ]
     },
     "execution_count": 150,
     "metadata": {},
     "output_type": "execute_result"
    }
   ],
   "source": [
    "Set_A.head()"
   ]
  },
  {
   "cell_type": "code",
   "execution_count": 151,
   "id": "0fe03bf4-51f6-4265-aba5-c0d5d3dea9ad",
   "metadata": {},
   "outputs": [
    {
     "data": {
      "text/plain": [
       "1    16\n",
       "2     6\n",
       "4     4\n",
       "3     2\n",
       "5     2\n",
       "Name: Insured_Period, dtype: int64"
      ]
     },
     "execution_count": 151,
     "metadata": {},
     "output_type": "execute_result"
    },
    {
     "data": {
      "text/plain": [
       "<Figure size 864x432 with 0 Axes>"
      ]
     },
     "metadata": {},
     "output_type": "display_data"
    }
   ],
   "source": [
    "plt.figure(figsize=(12,6))\n",
    "\n",
    "Set_A[\"Insured_Period\"].value_counts()"
   ]
  },
  {
   "cell_type": "code",
   "execution_count": 152,
   "id": "bf86cd76-ab99-46c7-9386-9078e4c48243",
   "metadata": {},
   "outputs": [
    {
     "data": {
      "text/plain": [
       "<AxesSubplot:xlabel='Building_Painted', ylabel='count'>"
      ]
     },
     "execution_count": 152,
     "metadata": {},
     "output_type": "execute_result"
    },
    {
     "data": {
      "image/png": "[encoded data removed]",
      "text/plain": [
       "<Figure size 720x360 with 2 Axes>"
      ]
     },
     "metadata": {},
     "output_type": "display_data"
    }
   ],
   "source": [
    "f,  ((ax1, ax2)) = plt.subplots(nrows=1,ncols=2, figsize=(10,5))\n",
    "f.tight_layout()\n",
    "f.subplots_adjust(wspace=0.2, hspace=0.5)\n",
    "\n",
    "\n",
    "\n",
    "\n",
    "\n",
    "sns.countplot(x=\"Garden\",ax=ax1, data=claim)\n",
    "sns.countplot(x=\"Building_Painted\",ax=ax2, data=claim)"
   ]
  },
  {
   "cell_type": "code",
   "execution_count": 154,
   "id": "8f0c95e2-16ca-4fa9-8f39-c498db3c1bee",
   "metadata": {},
   "outputs": [
    {
     "data": {
      "text/html": [
       "<div>\n",
       "<style scoped>\n",
       "    .dataframe tbody tr th:only-of-type {\n",
       "        vertical-align: middle;\n",
       "    }\n",
       "\n",
       "    .dataframe tbody tr th {\n",
       "        vertical-align: top;\n",
       "    }\n",
       "\n",
       "    .dataframe thead th {\n",
       "        text-align: right;\n",
       "    }\n",
       "</style>\n",
       "<table border=\"1\" class=\"dataframe\">\n",
       "  <thead>\n",
       "    <tr style=\"text-align: right;\">\n",
       "      <th></th>\n",
       "      <th>Customer Id</th>\n",
       "      <th>YearOfObservation</th>\n",
       "      <th>Insured_Period</th>\n",
       "      <th>Residential</th>\n",
       "      <th>Building_Painted</th>\n",
       "      <th>Building_Fenced</th>\n",
       "      <th>Garden</th>\n",
       "      <th>Settlement</th>\n",
       "      <th>Building Dimension</th>\n",
       "      <th>Building_Type</th>\n",
       "      <th>Date_of_Occupancy</th>\n",
       "      <th>Claim</th>\n",
       "    </tr>\n",
       "  </thead>\n",
       "  <tbody>\n",
       "    <tr>\n",
       "      <th>0</th>\n",
       "      <td>14663</td>\n",
       "      <td>2013</td>\n",
       "      <td>1</td>\n",
       "      <td>1</td>\n",
       "      <td>N</td>\n",
       "      <td>V</td>\n",
       "      <td>V</td>\n",
       "      <td>U</td>\n",
       "      <td>290</td>\n",
       "      <td>1</td>\n",
       "      <td>1960</td>\n",
       "      <td>0</td>\n",
       "    </tr>\n",
       "    <tr>\n",
       "      <th>1</th>\n",
       "      <td>2037</td>\n",
       "      <td>2015</td>\n",
       "      <td>4</td>\n",
       "      <td>1</td>\n",
       "      <td>V</td>\n",
       "      <td>N</td>\n",
       "      <td>O</td>\n",
       "      <td>R</td>\n",
       "      <td>490</td>\n",
       "      <td>2</td>\n",
       "      <td>1950</td>\n",
       "      <td>0</td>\n",
       "    </tr>\n",
       "    <tr>\n",
       "      <th>3</th>\n",
       "      <td>3834</td>\n",
       "      <td>2013</td>\n",
       "      <td>2</td>\n",
       "      <td>0</td>\n",
       "      <td>V</td>\n",
       "      <td>V</td>\n",
       "      <td>V</td>\n",
       "      <td>U</td>\n",
       "      <td>2840</td>\n",
       "      <td>1</td>\n",
       "      <td>1960</td>\n",
       "      <td>0</td>\n",
       "    </tr>\n",
       "    <tr>\n",
       "      <th>4</th>\n",
       "      <td>5053</td>\n",
       "      <td>2014</td>\n",
       "      <td>1</td>\n",
       "      <td>0</td>\n",
       "      <td>V</td>\n",
       "      <td>N</td>\n",
       "      <td>O</td>\n",
       "      <td>R</td>\n",
       "      <td>680</td>\n",
       "      <td>4</td>\n",
       "      <td>1800</td>\n",
       "      <td>0</td>\n",
       "    </tr>\n",
       "    <tr>\n",
       "      <th>5</th>\n",
       "      <td>6272</td>\n",
       "      <td>2013</td>\n",
       "      <td>3</td>\n",
       "      <td>0</td>\n",
       "      <td>N</td>\n",
       "      <td>V</td>\n",
       "      <td>V</td>\n",
       "      <td>U</td>\n",
       "      <td>290</td>\n",
       "      <td>1</td>\n",
       "      <td>1960</td>\n",
       "      <td>0</td>\n",
       "    </tr>\n",
       "  </tbody>\n",
       "</table>\n",
       "</div>"
      ],
      "text/plain": [
       "   Customer Id  YearOfObservation  Insured_Period  Residential  \\\n",
       "0        14663               2013               1            1   \n",
       "1         2037               2015               4            1   \n",
       "3         3834               2013               2            0   \n",
       "4         5053               2014               1            0   \n",
       "5         6272               2013               3            0   \n",
       "\n",
       "  Building_Painted Building_Fenced Garden Settlement  Building Dimension  \\\n",
       "0                N               V      V          U                 290   \n",
       "1                V               N      O          R                 490   \n",
       "3                V               V      V          U                2840   \n",
       "4                V               N      O          R                 680   \n",
       "5                N               V      V          U                 290   \n",
       "\n",
       "   Building_Type  Date_of_Occupancy  Claim  \n",
       "0              1               1960      0  \n",
       "1              2               1950      0  \n",
       "3              1               1960      0  \n",
       "4              4               1800      0  \n",
       "5              1               1960      0  "
      ]
     },
     "execution_count": 154,
     "metadata": {},
     "output_type": "execute_result"
    }
   ],
   "source": [
    "#Features of those yet to make a claim\n",
    "\n",
    "no_claim = Set_A[Set_A[\"Claim\"]==0]\n",
    "no_claim.head()"
   ]
  },
  {
   "cell_type": "code",
   "execution_count": 155,
   "id": "895aac52-a955-4ef7-8092-83b6af9e4015",
   "metadata": {},
   "outputs": [
    {
     "data": {
      "text/plain": [
       "Text(0.5, 1.0, 'Fenced Buildings')"
      ]
     },
     "execution_count": 155,
     "metadata": {},
     "output_type": "execute_result"
    },
    {
     "data": {
      "image/png": "[encoded data removed]",
      "text/plain": [
       "<Figure size 864x576 with 4 Axes>"
      ]
     },
     "metadata": {},
     "output_type": "display_data"
    }
   ],
   "source": [
    "f,  ((ax1, ax2), (ax3, ax4)) = plt.subplots(nrows=2,ncols=2, figsize=(12,8))\n",
    "f.tight_layout()\n",
    "f.subplots_adjust(wspace=0.2, hspace=0.5)\n",
    "\n",
    "\n",
    "\n",
    "\n",
    "\n",
    "sns.countplot(x=\"Building_Type\",ax=ax1, data=no_claim)\n",
    "sns.countplot(x=\"Residential\",ax=ax2, data=no_claim)\n",
    "sns.countplot(x=\"Settlement\",ax=ax3, data=no_claim)\n",
    "sns.countplot(x=\"Building_Fenced\",ax=ax4, data=no_claim)\n",
    "\n",
    "ax1.set_title(\"Building Type\")\n",
    "ax2.set_title(\"Residential or Others\")\n",
    "ax3.set_title(\"Settlement Area\")\n",
    "ax4.set_title(\"Fenced Buildings\")"
   ]
  },
  {
   "cell_type": "code",
   "execution_count": 156,
   "id": "8ce0b916-97d9-4154-adb6-f3ed2d834c80",
   "metadata": {},
   "outputs": [
    {
     "data": {
      "text/html": [
       "<div>\n",
       "<style scoped>\n",
       "    .dataframe tbody tr th:only-of-type {\n",
       "        vertical-align: middle;\n",
       "    }\n",
       "\n",
       "    .dataframe tbody tr th {\n",
       "        vertical-align: top;\n",
       "    }\n",
       "\n",
       "    .dataframe thead th {\n",
       "        text-align: right;\n",
       "    }\n",
       "</style>\n",
       "<table border=\"1\" class=\"dataframe\">\n",
       "  <thead>\n",
       "    <tr style=\"text-align: right;\">\n",
       "      <th></th>\n",
       "      <th>Customer Id</th>\n",
       "      <th>YearOfObservation</th>\n",
       "      <th>Insured_Period</th>\n",
       "      <th>Residential</th>\n",
       "      <th>Building_Painted</th>\n",
       "      <th>Building_Fenced</th>\n",
       "      <th>Garden</th>\n",
       "      <th>Settlement</th>\n",
       "      <th>Building Dimension</th>\n",
       "      <th>Building_Type</th>\n",
       "      <th>Date_of_Occupancy</th>\n",
       "      <th>Claim</th>\n",
       "    </tr>\n",
       "  </thead>\n",
       "  <tbody>\n",
       "    <tr>\n",
       "      <th>0</th>\n",
       "      <td>14663</td>\n",
       "      <td>2013</td>\n",
       "      <td>1</td>\n",
       "      <td>1</td>\n",
       "      <td>N</td>\n",
       "      <td>V</td>\n",
       "      <td>V</td>\n",
       "      <td>U</td>\n",
       "      <td>290</td>\n",
       "      <td>1</td>\n",
       "      <td>1960</td>\n",
       "      <td>0</td>\n",
       "    </tr>\n",
       "    <tr>\n",
       "      <th>1</th>\n",
       "      <td>2037</td>\n",
       "      <td>2015</td>\n",
       "      <td>4</td>\n",
       "      <td>1</td>\n",
       "      <td>V</td>\n",
       "      <td>N</td>\n",
       "      <td>O</td>\n",
       "      <td>R</td>\n",
       "      <td>490</td>\n",
       "      <td>2</td>\n",
       "      <td>1950</td>\n",
       "      <td>0</td>\n",
       "    </tr>\n",
       "    <tr>\n",
       "      <th>2</th>\n",
       "      <td>3802</td>\n",
       "      <td>2014</td>\n",
       "      <td>1</td>\n",
       "      <td>0</td>\n",
       "      <td>N</td>\n",
       "      <td>V</td>\n",
       "      <td>V</td>\n",
       "      <td>U</td>\n",
       "      <td>595</td>\n",
       "      <td>3</td>\n",
       "      <td>1945</td>\n",
       "      <td>1</td>\n",
       "    </tr>\n",
       "    <tr>\n",
       "      <th>3</th>\n",
       "      <td>3834</td>\n",
       "      <td>2013</td>\n",
       "      <td>2</td>\n",
       "      <td>0</td>\n",
       "      <td>V</td>\n",
       "      <td>V</td>\n",
       "      <td>V</td>\n",
       "      <td>U</td>\n",
       "      <td>2840</td>\n",
       "      <td>1</td>\n",
       "      <td>1960</td>\n",
       "      <td>0</td>\n",
       "    </tr>\n",
       "    <tr>\n",
       "      <th>4</th>\n",
       "      <td>5053</td>\n",
       "      <td>2014</td>\n",
       "      <td>1</td>\n",
       "      <td>0</td>\n",
       "      <td>V</td>\n",
       "      <td>N</td>\n",
       "      <td>O</td>\n",
       "      <td>R</td>\n",
       "      <td>680</td>\n",
       "      <td>4</td>\n",
       "      <td>1800</td>\n",
       "      <td>0</td>\n",
       "    </tr>\n",
       "  </tbody>\n",
       "</table>\n",
       "</div>"
      ],
      "text/plain": [
       "   Customer Id  YearOfObservation  Insured_Period  Residential  \\\n",
       "0        14663               2013               1            1   \n",
       "1         2037               2015               4            1   \n",
       "2         3802               2014               1            0   \n",
       "3         3834               2013               2            0   \n",
       "4         5053               2014               1            0   \n",
       "\n",
       "  Building_Painted Building_Fenced Garden Settlement  Building Dimension  \\\n",
       "0                N               V      V          U                 290   \n",
       "1                V               N      O          R                 490   \n",
       "2                N               V      V          U                 595   \n",
       "3                V               V      V          U                2840   \n",
       "4                V               N      O          R                 680   \n",
       "\n",
       "   Building_Type  Date_of_Occupancy  Claim  \n",
       "0              1               1960      0  \n",
       "1              2               1950      0  \n",
       "2              3               1945      1  \n",
       "3              1               1960      0  \n",
       "4              4               1800      0  "
      ]
     },
     "execution_count": 156,
     "metadata": {},
     "output_type": "execute_result"
    }
   ],
   "source": [
    "Set_A.head()"
   ]
  },
  {
   "cell_type": "markdown",
   "id": "8131cd6d-a844-4ee7-af74-df0b78b57aba",
   "metadata": {},
   "source": [
    "Modelling"
   ]
  },
  {
   "cell_type": "code",
   "execution_count": 157,
   "id": "a3a81202-b9da-4160-a2d6-f131f36c0967",
   "metadata": {},
   "outputs": [
    {
     "ename": "ImportError",
     "evalue": "cannot import name 'Set_A_Set_B_split' from 'sklearn.model_selection' (C:\\Users\\EugeneLabuschagne\\anaconda3\\lib\\site-packages\\sklearn\\model_selection\\__init__.py)",
     "output_type": "error",
     "traceback": [
      "\u001b[1;31m---------------------------------------------------------------------------\u001b[0m",
      "\u001b[1;31mImportError\u001b[0m                               Traceback (most recent call last)",
      "Input \u001b[1;32mIn [170]\u001b[0m, in \u001b[0;36m<cell line: 4>\u001b[1;34m()\u001b[0m\n\u001b[0;32m      1\u001b[0m \u001b[38;5;66;03m#importing necessary libraries\u001b[39;00m\n\u001b[0;32m      3\u001b[0m \u001b[38;5;28;01mfrom\u001b[39;00m \u001b[38;5;21;01msklearn\u001b[39;00m \u001b[38;5;28;01mimport\u001b[39;00m linear_model\n\u001b[1;32m----> 4\u001b[0m \u001b[38;5;28;01mfrom\u001b[39;00m \u001b[38;5;21;01msklearn\u001b[39;00m\u001b[38;5;21;01m.\u001b[39;00m\u001b[38;5;21;01mmodel_selection\u001b[39;00m \u001b[38;5;28;01mimport\u001b[39;00m Set_A_Set_B_split\n\u001b[0;32m      5\u001b[0m \u001b[38;5;28;01mfrom\u001b[39;00m \u001b[38;5;21;01msklearn\u001b[39;00m\u001b[38;5;21;01m.\u001b[39;00m\u001b[38;5;21;01mpreprocessing\u001b[39;00m \u001b[38;5;28;01mimport\u001b[39;00m LabelEncoder\n\u001b[0;32m      6\u001b[0m \u001b[38;5;28;01mfrom\u001b[39;00m \u001b[38;5;21;01msklearn\u001b[39;00m \u001b[38;5;28;01mimport\u001b[39;00m preprocessing \n",
      "\u001b[1;31mImportError\u001b[0m: cannot import name 'Set_A_Set_B_split' from 'sklearn.model_selection' (C:\\Users\\EugeneLabuschagne\\anaconda3\\lib\\site-packages\\sklearn\\model_selection\\__init__.py)"
     ]
    }
   ],
   "source": [
    "#importing necessary libraries\n",
    "\n",
    "from sklearn import linear_model\n",
    "from sklearn.model_selection import train_test_split\n",
    "from sklearn.preprocessing import LabelEncoder\n",
    "from sklearn import preprocessing \n",
    "from sklearn.linear_model import LogisticRegression\n",
    "from sklearn.metrics import accuracy_score,confusion_matrix"
   ]
  },
  {
   "cell_type": "code",
   "execution_count": 159,
   "id": "decd7771-e722-4b87-a1f1-6f6dd0df1842",
   "metadata": {},
   "outputs": [],
   "source": [
    "label_encoder = preprocessing.LabelEncoder()"
   ]
  },
  {
   "cell_type": "code",
   "execution_count": 160,
   "id": "9bf20dd1-c5b3-41c7-91ba-d84ad58db6d4",
   "metadata": {},
   "outputs": [],
   "source": [
    "#tranforming columns to the data type that the training data can understand\n",
    "#all data should be integers or floats and not strings\n",
    "\n",
    "Set_A[\"Building_Painted\"] =label_encoder.fit_transform(Set_A[\"Building_Painted\"])\n",
    "Set_A[\"Building_Fenced\"] =label_encoder.fit_transform(Set_A[\"Building_Fenced\"])\n",
    "Set_A[\"Garden\"] =label_encoder.fit_transform(Set_A[\"Garden\"])\n",
    "Set_A[\"Settlement\"]=label_encoder.fit_transform(Set_A[\"Settlement\"])"
   ]
  },
  {
   "cell_type": "code",
   "execution_count": 161,
   "id": "389d3a7d-d742-4f64-bd99-53e48e690eb7",
   "metadata": {},
   "outputs": [],
   "source": [
    "#tranforming columns to the data type that the training data can understand\n",
    "#all data should be integers or floats and not strings\n",
    "\n",
    "Set_B[\"Building_Painted\"] =label_encoder.fit_transform(Set_B[\"Building_Painted\"])\n",
    "Set_B[\"Building_Fenced\"] =label_encoder.fit_transform(Set_B[\"Building_Fenced\"])\n",
    "Set_B[\"Garden\"] =label_encoder.fit_transform(Set_B[\"Garden\"])\n",
    "Set_B[\"Settlement\"]=label_encoder.fit_transform(Set_B[\"Settlement\"])"
   ]
  },
  {
   "cell_type": "code",
   "execution_count": 162,
   "id": "23f764e8-03f5-477f-87e2-0a83b2d2905d",
   "metadata": {},
   "outputs": [],
   "source": [
    "#calling our model\n",
    "\n",
    "reg = linear_model.LinearRegression()"
   ]
  },
  {
   "cell_type": "code",
   "execution_count": 163,
   "id": "e55c0955-2674-4f28-9929-fc02c159f29b",
   "metadata": {},
   "outputs": [
    {
     "data": {
      "text/html": [
       "<div>\n",
       "<style scoped>\n",
       "    .dataframe tbody tr th:only-of-type {\n",
       "        vertical-align: middle;\n",
       "    }\n",
       "\n",
       "    .dataframe tbody tr th {\n",
       "        vertical-align: top;\n",
       "    }\n",
       "\n",
       "    .dataframe thead th {\n",
       "        text-align: right;\n",
       "    }\n",
       "</style>\n",
       "<table border=\"1\" class=\"dataframe\">\n",
       "  <thead>\n",
       "    <tr style=\"text-align: right;\">\n",
       "      <th></th>\n",
       "      <th>Customer Id</th>\n",
       "      <th>YearOfObservation</th>\n",
       "      <th>Insured_Period</th>\n",
       "      <th>Residential</th>\n",
       "      <th>Building_Painted</th>\n",
       "      <th>Building_Fenced</th>\n",
       "      <th>Garden</th>\n",
       "      <th>Settlement</th>\n",
       "      <th>Building Dimension</th>\n",
       "      <th>Building_Type</th>\n",
       "      <th>Date_of_Occupancy</th>\n",
       "      <th>Claim</th>\n",
       "    </tr>\n",
       "  </thead>\n",
       "  <tbody>\n",
       "    <tr>\n",
       "      <th>0</th>\n",
       "      <td>14663</td>\n",
       "      <td>2013</td>\n",
       "      <td>1</td>\n",
       "      <td>1</td>\n",
       "      <td>0</td>\n",
       "      <td>1</td>\n",
       "      <td>1</td>\n",
       "      <td>1</td>\n",
       "      <td>290</td>\n",
       "      <td>1</td>\n",
       "      <td>1960</td>\n",
       "      <td>0</td>\n",
       "    </tr>\n",
       "    <tr>\n",
       "      <th>1</th>\n",
       "      <td>2037</td>\n",
       "      <td>2015</td>\n",
       "      <td>4</td>\n",
       "      <td>1</td>\n",
       "      <td>1</td>\n",
       "      <td>0</td>\n",
       "      <td>0</td>\n",
       "      <td>0</td>\n",
       "      <td>490</td>\n",
       "      <td>2</td>\n",
       "      <td>1950</td>\n",
       "      <td>0</td>\n",
       "    </tr>\n",
       "    <tr>\n",
       "      <th>2</th>\n",
       "      <td>3802</td>\n",
       "      <td>2014</td>\n",
       "      <td>1</td>\n",
       "      <td>0</td>\n",
       "      <td>0</td>\n",
       "      <td>1</td>\n",
       "      <td>1</td>\n",
       "      <td>1</td>\n",
       "      <td>595</td>\n",
       "      <td>3</td>\n",
       "      <td>1945</td>\n",
       "      <td>1</td>\n",
       "    </tr>\n",
       "    <tr>\n",
       "      <th>3</th>\n",
       "      <td>3834</td>\n",
       "      <td>2013</td>\n",
       "      <td>2</td>\n",
       "      <td>0</td>\n",
       "      <td>1</td>\n",
       "      <td>1</td>\n",
       "      <td>1</td>\n",
       "      <td>1</td>\n",
       "      <td>2840</td>\n",
       "      <td>1</td>\n",
       "      <td>1960</td>\n",
       "      <td>0</td>\n",
       "    </tr>\n",
       "    <tr>\n",
       "      <th>4</th>\n",
       "      <td>5053</td>\n",
       "      <td>2014</td>\n",
       "      <td>1</td>\n",
       "      <td>0</td>\n",
       "      <td>1</td>\n",
       "      <td>0</td>\n",
       "      <td>0</td>\n",
       "      <td>0</td>\n",
       "      <td>680</td>\n",
       "      <td>4</td>\n",
       "      <td>1800</td>\n",
       "      <td>0</td>\n",
       "    </tr>\n",
       "  </tbody>\n",
       "</table>\n",
       "</div>"
      ],
      "text/plain": [
       "   Customer Id  YearOfObservation  Insured_Period  Residential  \\\n",
       "0        14663               2013               1            1   \n",
       "1         2037               2015               4            1   \n",
       "2         3802               2014               1            0   \n",
       "3         3834               2013               2            0   \n",
       "4         5053               2014               1            0   \n",
       "\n",
       "   Building_Painted  Building_Fenced  Garden  Settlement  Building Dimension  \\\n",
       "0                 0                1       1           1                 290   \n",
       "1                 1                0       0           0                 490   \n",
       "2                 0                1       1           1                 595   \n",
       "3                 1                1       1           1                2840   \n",
       "4                 1                0       0           0                 680   \n",
       "\n",
       "   Building_Type  Date_of_Occupancy  Claim  \n",
       "0              1               1960      0  \n",
       "1              2               1950      0  \n",
       "2              3               1945      1  \n",
       "3              1               1960      0  \n",
       "4              4               1800      0  "
      ]
     },
     "execution_count": 163,
     "metadata": {},
     "output_type": "execute_result"
    }
   ],
   "source": [
    "Set_A.head()"
   ]
  },
  {
   "cell_type": "code",
   "execution_count": 164,
   "id": "a645d45b-5f6f-4ea8-923f-33ed5a1723b3",
   "metadata": {},
   "outputs": [
    {
     "data": {
      "text/html": [
       "<div>\n",
       "<style scoped>\n",
       "    .dataframe tbody tr th:only-of-type {\n",
       "        vertical-align: middle;\n",
       "    }\n",
       "\n",
       "    .dataframe tbody tr th {\n",
       "        vertical-align: top;\n",
       "    }\n",
       "\n",
       "    .dataframe thead th {\n",
       "        text-align: right;\n",
       "    }\n",
       "</style>\n",
       "<table border=\"1\" class=\"dataframe\">\n",
       "  <thead>\n",
       "    <tr style=\"text-align: right;\">\n",
       "      <th></th>\n",
       "      <th>Customer Id</th>\n",
       "      <th>YearOfObservation</th>\n",
       "      <th>Insured_Period</th>\n",
       "      <th>Residential</th>\n",
       "      <th>Building_Painted</th>\n",
       "      <th>Building_Fenced</th>\n",
       "      <th>Garden</th>\n",
       "      <th>Settlement</th>\n",
       "      <th>Building Dimension</th>\n",
       "      <th>Building_Type</th>\n",
       "      <th>Date_of_Occupancy</th>\n",
       "    </tr>\n",
       "  </thead>\n",
       "  <tbody>\n",
       "    <tr>\n",
       "      <th>0</th>\n",
       "      <td>11920</td>\n",
       "      <td>2013</td>\n",
       "      <td>1.000000</td>\n",
       "      <td>0</td>\n",
       "      <td>0</td>\n",
       "      <td>0</td>\n",
       "      <td>0</td>\n",
       "      <td>0</td>\n",
       "      <td>300</td>\n",
       "      <td>1</td>\n",
       "      <td>1960</td>\n",
       "    </tr>\n",
       "    <tr>\n",
       "      <th>1</th>\n",
       "      <td>11921</td>\n",
       "      <td>2016</td>\n",
       "      <td>0.997268</td>\n",
       "      <td>0</td>\n",
       "      <td>0</td>\n",
       "      <td>0</td>\n",
       "      <td>0</td>\n",
       "      <td>0</td>\n",
       "      <td>300</td>\n",
       "      <td>1</td>\n",
       "      <td>1960</td>\n",
       "    </tr>\n",
       "    <tr>\n",
       "      <th>2</th>\n",
       "      <td>9805</td>\n",
       "      <td>2013</td>\n",
       "      <td>0.369863</td>\n",
       "      <td>1</td>\n",
       "      <td>0</td>\n",
       "      <td>1</td>\n",
       "      <td>1</td>\n",
       "      <td>1</td>\n",
       "      <td>790</td>\n",
       "      <td>1</td>\n",
       "      <td>1960</td>\n",
       "    </tr>\n",
       "    <tr>\n",
       "      <th>3</th>\n",
       "      <td>7493</td>\n",
       "      <td>2014</td>\n",
       "      <td>1.000000</td>\n",
       "      <td>1</td>\n",
       "      <td>0</td>\n",
       "      <td>0</td>\n",
       "      <td>0</td>\n",
       "      <td>0</td>\n",
       "      <td>1405</td>\n",
       "      <td>1</td>\n",
       "      <td>2004</td>\n",
       "    </tr>\n",
       "    <tr>\n",
       "      <th>4</th>\n",
       "      <td>7494</td>\n",
       "      <td>2016</td>\n",
       "      <td>1.000000</td>\n",
       "      <td>1</td>\n",
       "      <td>0</td>\n",
       "      <td>0</td>\n",
       "      <td>0</td>\n",
       "      <td>0</td>\n",
       "      <td>1405</td>\n",
       "      <td>1</td>\n",
       "      <td>2004</td>\n",
       "    </tr>\n",
       "  </tbody>\n",
       "</table>\n",
       "</div>"
      ],
      "text/plain": [
       "   Customer Id  YearOfObservation  Insured_Period  Residential  \\\n",
       "0        11920               2013        1.000000            0   \n",
       "1        11921               2016        0.997268            0   \n",
       "2         9805               2013        0.369863            1   \n",
       "3         7493               2014        1.000000            1   \n",
       "4         7494               2016        1.000000            1   \n",
       "\n",
       "   Building_Painted  Building_Fenced  Garden  Settlement  Building Dimension  \\\n",
       "0                 0                0       0           0                 300   \n",
       "1                 0                0       0           0                 300   \n",
       "2                 0                1       1           1                 790   \n",
       "3                 0                0       0           0                1405   \n",
       "4                 0                0       0           0                1405   \n",
       "\n",
       "   Building_Type  Date_of_Occupancy  \n",
       "0              1               1960  \n",
       "1              1               1960  \n",
       "2              1               1960  \n",
       "3              1               2004  \n",
       "4              1               2004  "
      ]
     },
     "execution_count": 164,
     "metadata": {},
     "output_type": "execute_result"
    }
   ],
   "source": [
    "Set_B.head()"
   ]
  },
  {
   "cell_type": "code",
   "execution_count": 168,
   "id": "4a84f45d-08b9-4f4f-8e0f-2679b07a138d",
   "metadata": {},
   "outputs": [],
   "source": [
    "x = Set_A.drop([\"Claim\",\"Customer Id\"], axis=1)\n",
    "y = Set_A[\"Claim\"]"
   ]
  },
  {
   "cell_type": "code",
   "execution_count": 171,
   "id": "2a10f6b0-a3e5-4501-8b98-3139215d8eea",
   "metadata": {},
   "outputs": [],
   "source": [
    "#splitting our training data into 2\n",
    "\n",
    "x_Set_A, x_Set_B, y_Set_A, y_Set_B = train_test_split(x,y, test_size= 0.30, random_state=42)"
   ]
  },
  {
   "cell_type": "code",
   "execution_count": 172,
   "id": "10a465c2-7989-4f93-8e83-1afdffbdb72e",
   "metadata": {},
   "outputs": [],
   "source": [
    "par = LogisticRegression()"
   ]
  },
  {
   "cell_type": "code",
   "execution_count": 174,
   "id": "556bed16-8308-4f24-a2fc-e51b61f70ae1",
   "metadata": {},
   "outputs": [
    {
     "data": {
      "text/plain": [
       "LogisticRegression()"
      ]
     },
     "execution_count": 174,
     "metadata": {},
     "output_type": "execute_result"
    }
   ],
   "source": [
    "#training our model\n",
    "\n",
    "par.fit(x_Set_A,y_Set_A)"
   ]
  },
  {
   "cell_type": "code",
   "execution_count": 175,
   "id": "e47684ec-0b1e-4278-9de8-9dd5993bf60a",
   "metadata": {},
   "outputs": [],
   "source": [
    "\n",
    "#testing the model\n",
    "\n",
    "pred = par.predict(x_Set_B)"
   ]
  },
  {
   "cell_type": "code",
   "execution_count": 176,
   "id": "8a19f898-a49b-4433-88a4-1074908b6506",
   "metadata": {},
   "outputs": [
    {
     "data": {
      "text/plain": [
       "0.7777777777777778"
      ]
     },
     "execution_count": 176,
     "metadata": {},
     "output_type": "execute_result"
    }
   ],
   "source": [
    "#checking the accuracy of the model\n",
    "\n",
    "accuracy_score(pred,y_Set_B)"
   ]
  },
  {
   "cell_type": "code",
   "execution_count": 177,
   "id": "12067cb4-665e-416d-b242-0480d87d4957",
   "metadata": {},
   "outputs": [
    {
     "data": {
      "text/plain": [
       "array([[6, 2],\n",
       "       [0, 1]], dtype=int64)"
      ]
     },
     "execution_count": 177,
     "metadata": {},
     "output_type": "execute_result"
    }
   ],
   "source": [
    "#checking accuracy of the model\n",
    "\n",
    "confusion_matrix(pred, y_Set_B)"
   ]
  }
 ],
 "metadata": {
  "kernelspec": {
   "display_name": "Python 3 (ipykernel)",
   "language": "python",
   "name": "python3"
  },
  "language_info": {
   "codemirror_mode": {
    "name": "ipython",
    "version": 3
   },
   "file_extension": ".py",
   "mimetype": "text/x-python",
   "name": "python",
   "nbconvert_exporter": "python",
   "pygments_lexer": "ipython3",
   "version": "3.9.12"
  }
 },
 "nbformat": 4,
 "nbformat_minor": 5
}
