{
 "cells": [
  {
   "cell_type": "code",
   "execution_count": 2,
   "id": "eff3c3dd-9d7d-4577-8191-b32fe235e383",
   "metadata": {},
   "outputs": [
    {
     "name": "stdout",
     "output_type": "stream",
     "text": [
      "hello world\n"
     ]
    }
   ],
   "source": [
    "print ('hello world')"
   ]
  },
  {
   "cell_type": "code",
   "execution_count": 4,
   "id": "9968ba99-5279-4762-8d0c-0b1163a6f18c",
   "metadata": {},
   "outputs": [],
   "source": [
    "l = [1,2,3"
   ]
  },
  {
   "cell_type": "code",
   "execution_count": null,
   "id": "1c2d57e7-68ee-4d18-9c2c-5bebb95f1445",
   "metadata": {},
   "outputs": [],
   "source": [
    "l.sort"
   ]
  },
  {
   "cell_type": "markdown",
   "id": "4d0bafaa-167a-4c3a-a306-19ae7044a14c",
   "metadata": {},
   "source": [
    "This is used for comments"
   ]
  },
  {
   "cell_type": "code",
   "execution_count": 8,
   "id": "20d0b895-b4d9-4ded-8546-f656ab3891cd",
   "metadata": {},
   "outputs": [],
   "source": [
    "#This is a comments"
   ]
  },
  {
   "cell_type": "code",
   "execution_count": null,
   "id": "606ff7d3-8335-4a74-a36b-8c36fdd236d4",
   "metadata": {},
   "outputs": [],
   "source": []
  },
  {
   "cell_type": "code",
   "execution_count": null,
   "id": "36796414-5290-4718-b06c-b028f945a31f",
   "metadata": {},
   "outputs": [],
   "source": []
  }
 ],
 "metadata": {
  "kernelspec": {
   "display_name": "Python 3 (ipykernel)",
   "language": "python",
   "name": "python3"
  },
  "language_info": {
   "codemirror_mode": {
    "name": "ipython",
    "version": 3
   },
   "file_extension": ".py",
   "mimetype": "text/x-python",
   "name": "python",
   "nbconvert_exporter": "python",
   "pygments_lexer": "ipython3",
   "version": "3.9.12"
  }
 },
 "nbformat": 4,
 "nbformat_minor": 5
}
