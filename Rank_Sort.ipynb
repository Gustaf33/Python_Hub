{
 "cells": [
  {
   "cell_type": "code",
   "execution_count": 1,
   "id": "2137e251-1023-4fbd-9e79-efebf2ac4b0c",
   "metadata": {},
   "outputs": [],
   "source": [
    "import numpy as np\n",
    "from pandas import Series,DataFrame\n",
    "import pandas as pd"
   ]
  },
  {
   "cell_type": "code",
   "execution_count": 2,
   "id": "bcfc4470-9161-4f70-9537-d9bbe9c2063e",
   "metadata": {},
   "outputs": [
    {
     "data": {
      "text/plain": [
       "C    0\n",
       "A    1\n",
       "B    2\n",
       "dtype: int64"
      ]
     },
     "execution_count": 2,
     "metadata": {},
     "output_type": "execute_result"
    }
   ],
   "source": [
    "#Sorting by index\n",
    "ser1 = Series(range(3),index=['C','A','B'])\n",
    "\n",
    "#show\n",
    "ser1"
   ]
  },
  {
   "cell_type": "code",
   "execution_count": 3,
   "id": "e4431c2b-e42d-43f5-b647-f4b94b7702a8",
   "metadata": {},
   "outputs": [
    {
     "data": {
      "text/plain": [
       "A    1\n",
       "B    2\n",
       "C    0\n",
       "dtype: int64"
      ]
     },
     "execution_count": 3,
     "metadata": {},
     "output_type": "execute_result"
    }
   ],
   "source": [
    "#Now sort_index\n",
    "ser1.sort_index()"
   ]
  },
  {
   "cell_type": "code",
   "execution_count": 9,
   "id": "703b3b5e-b5eb-4680-af5f-7203bdfb767d",
   "metadata": {},
   "outputs": [
    {
     "data": {
      "text/plain": [
       "C    0\n",
       "A    1\n",
       "B    2\n",
       "dtype: int64"
      ]
     },
     "execution_count": 9,
     "metadata": {},
     "output_type": "execute_result"
    }
   ],
   "source": [
    "#Can sort a Series by its values\n",
    "ser1.sort_values()"
   ]
  },
  {
   "cell_type": "code",
   "execution_count": 10,
   "id": "b75014d7-8d62-4fa3-ac86-a573b15248ee",
   "metadata": {},
   "outputs": [
    {
     "data": {
      "text/plain": [
       "0    0.203630\n",
       "1   -0.608233\n",
       "2   -0.538193\n",
       "3   -0.431436\n",
       "4   -0.056893\n",
       "5    0.569377\n",
       "6   -0.301169\n",
       "7    1.604476\n",
       "8    1.068579\n",
       "9    0.674531\n",
       "dtype: float64"
      ]
     },
     "execution_count": 10,
     "metadata": {},
     "output_type": "execute_result"
    }
   ],
   "source": [
    "#Lets see how ranking works\n",
    "\n",
    "from numpy.random import randn\n",
    "ser2 = Series(randn(10))\n",
    "\n",
    "#Show\n",
    "ser2"
   ]
  },
  {
   "cell_type": "code",
   "execution_count": 11,
   "id": "d4c76c65-ce70-47af-9b20-fc5e7e27fb29",
   "metadata": {},
   "outputs": [
    {
     "data": {
      "text/plain": [
       "0     6.0\n",
       "1     1.0\n",
       "2     2.0\n",
       "3     3.0\n",
       "4     5.0\n",
       "5     7.0\n",
       "6     4.0\n",
       "7    10.0\n",
       "8     9.0\n",
       "9     8.0\n",
       "dtype: float64"
      ]
     },
     "execution_count": 11,
     "metadata": {},
     "output_type": "execute_result"
    }
   ],
   "source": [
    "#This will show you the rank used if you sort the series\n",
    "ser2.rank()"
   ]
  },
  {
   "cell_type": "code",
   "execution_count": 13,
   "id": "9a733c47-ea7a-49f7-89a2-3a62f1edf4f6",
   "metadata": {},
   "outputs": [
    {
     "data": {
      "text/plain": [
       "0    0.203630\n",
       "1   -0.608233\n",
       "2   -0.538193\n",
       "3   -0.431436\n",
       "4   -0.056893\n",
       "5    0.569377\n",
       "6   -0.301169\n",
       "7    1.604476\n",
       "8    1.068579\n",
       "9    0.674531\n",
       "dtype: float64"
      ]
     },
     "execution_count": 13,
     "metadata": {},
     "output_type": "execute_result"
    }
   ],
   "source": [
    "#Lets sort it now\n",
    "ser2.sort_values()\n",
    "\n",
    "#Show\n",
    "ser2"
   ]
  },
  {
   "cell_type": "code",
   "execution_count": 14,
   "id": "b3643acb-da78-4baf-92eb-1c8a4252477f",
   "metadata": {},
   "outputs": [
    {
     "data": {
      "text/plain": [
       "0     6.0\n",
       "1     1.0\n",
       "2     2.0\n",
       "3     3.0\n",
       "4     5.0\n",
       "5     7.0\n",
       "6     4.0\n",
       "7    10.0\n",
       "8     9.0\n",
       "9     8.0\n",
       "dtype: float64"
      ]
     },
     "execution_count": 14,
     "metadata": {},
     "output_type": "execute_result"
    }
   ],
   "source": [
    "#After sorting let's check the rank and see iof it makes sense\n",
    "ser2.rank()"
   ]
  },
  {
   "cell_type": "code",
   "execution_count": 16,
   "id": "9ffb38ae-9a0e-4140-980f-e7d1a8ebcf60",
   "metadata": {},
   "outputs": [],
   "source": [
    "#On the left column we see the original index value and on the right we see it's rank!"
   ]
  },
  {
   "cell_type": "code",
   "execution_count": 17,
   "id": "afcb6c18-15d3-4e69-862d-ad59df2dbb6a",
   "metadata": {},
   "outputs": [],
   "source": [
    "#Next we'll learn about using descriptive statistics on dataframes!"
   ]
  }
 ],
 "metadata": {
  "kernelspec": {
   "display_name": "Python 3 (ipykernel)",
   "language": "python",
   "name": "python3"
  },
  "language_info": {
   "codemirror_mode": {
    "name": "ipython",
    "version": 3
   },
   "file_extension": ".py",
   "mimetype": "text/x-python",
   "name": "python",
   "nbconvert_exporter": "python",
   "pygments_lexer": "ipython3",
   "version": "3.9.12"
  }
 },
 "nbformat": 4,
 "nbformat_minor": 5
}
