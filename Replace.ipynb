{
 "cells": [
  {
   "cell_type": "code",
   "execution_count": 1,
   "id": "54e2067d-eeee-4628-9376-bec33d14ed43",
   "metadata": {},
   "outputs": [],
   "source": [
    "#Replace\n",
    "\n",
    "import numpy as np\n",
    "import pandas as pd \n",
    "from pandas import Series, DataFrame"
   ]
  },
  {
   "cell_type": "code",
   "execution_count": 2,
   "id": "d13cf523-5c6d-4491-9d8b-056e17d7dadc",
   "metadata": {},
   "outputs": [
    {
     "data": {
      "text/plain": [
       "0    1\n",
       "1    2\n",
       "2    3\n",
       "3    4\n",
       "4    1\n",
       "5    2\n",
       "6    3\n",
       "7    4\n",
       "dtype: int64"
      ]
     },
     "execution_count": 2,
     "metadata": {},
     "output_type": "execute_result"
    }
   ],
   "source": [
    "# Lets make  Series\n",
    "ser1 = Series([1,2,3,4,1,2,3,4])\n",
    "#Show\n",
    "ser1"
   ]
  },
  {
   "cell_type": "code",
   "execution_count": 3,
   "id": "221663ce-2f77-4ba0-bf11-73f5b9d717e8",
   "metadata": {},
   "outputs": [
    {
     "data": {
      "text/plain": [
       "0    NaN\n",
       "1    2.0\n",
       "2    3.0\n",
       "3    4.0\n",
       "4    NaN\n",
       "5    2.0\n",
       "6    3.0\n",
       "7    4.0\n",
       "dtype: float64"
      ]
     },
     "execution_count": 3,
     "metadata": {},
     "output_type": "execute_result"
    }
   ],
   "source": [
    "# Using replace we can select --> .replace(value to be replaced, new_value)\n",
    "ser1.replace(1,np.nan)"
   ]
  },
  {
   "cell_type": "code",
   "execution_count": 4,
   "id": "5743b602-be84-4940-9519-03a95db110d2",
   "metadata": {},
   "outputs": [
    {
     "data": {
      "text/plain": [
       "0    100\n",
       "1      2\n",
       "2      3\n",
       "3    400\n",
       "4    100\n",
       "5      2\n",
       "6      3\n",
       "7    400\n",
       "dtype: int64"
      ]
     },
     "execution_count": 4,
     "metadata": {},
     "output_type": "execute_result"
    }
   ],
   "source": [
    "#Can also input lists\n",
    "ser1.replace([1,4],[100,400])"
   ]
  },
  {
   "cell_type": "code",
   "execution_count": 5,
   "id": "4ce63745-d00e-4db0-8379-2c0ccac9bc92",
   "metadata": {},
   "outputs": [
    {
     "data": {
      "text/plain": [
       "0    1.0\n",
       "1    2.0\n",
       "2    3.0\n",
       "3    NaN\n",
       "4    1.0\n",
       "5    2.0\n",
       "6    3.0\n",
       "7    NaN\n",
       "dtype: float64"
      ]
     },
     "execution_count": 5,
     "metadata": {},
     "output_type": "execute_result"
    }
   ],
   "source": [
    "#Can also input dictionary\n",
    "ser1.replace({4:np.nan})"
   ]
  },
  {
   "cell_type": "code",
   "execution_count": 6,
   "id": "159eaffb-caef-4a74-9d02-ae40a1702433",
   "metadata": {},
   "outputs": [],
   "source": [
    "#That's it for replace, next up Renaming an axis index"
   ]
  },
  {
   "cell_type": "code",
   "execution_count": null,
   "id": "ea666da7-bb2c-4f21-9e61-6bd6ea8ba239",
   "metadata": {},
   "outputs": [],
   "source": []
  }
 ],
 "metadata": {
  "kernelspec": {
   "display_name": "Python 3 (ipykernel)",
   "language": "python",
   "name": "python3"
  },
  "language_info": {
   "codemirror_mode": {
    "name": "ipython",
    "version": 3
   },
   "file_extension": ".py",
   "mimetype": "text/x-python",
   "name": "python",
   "nbconvert_exporter": "python",
   "pygments_lexer": "ipython3",
   "version": "3.9.12"
  }
 },
 "nbformat": 4,
 "nbformat_minor": 5
}
