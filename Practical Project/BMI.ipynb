{
 "cells": [
  {
   "cell_type": "markdown",
   "id": "dca8bc52-2c4d-4084-8c35-6b77508b1773",
   "metadata": {},
   "source": [
    "BMI Calculator\n",
    "\n",
    "https://mercer-health.com/services/weight-management-center/bmi-calculator#:~:text=Body%20Mass%20Index%2C%20or%20BMI,inches%20x%20height%20in%20inches"
   ]
  },
  {
   "cell_type": "code",
   "execution_count": 26,
   "id": "85db6827-2a95-4ddc-96a9-ae6b2a4c9019",
   "metadata": {},
   "outputs": [
    {
     "name": "stdin",
     "output_type": "stream",
     "text": [
      "Enter you name:  EUgene\n",
      "Enter your weight in kilograms:  68\n",
      "Enter your height in centemeters:  165\n"
     ]
    },
    {
     "name": "stdout",
     "output_type": "stream",
     "text": [
      "24.977\n",
      "EUgene, you are normal weight.\n"
     ]
    }
   ],
   "source": [
    "name = input(\"Enter you name: \")\n",
    "\n",
    "weight = int(input(\"Enter your weight in kilograms: \"))\n",
    "\n",
    "height = int(input(\"Enter your height in centemeters: \"))\n",
    "\n",
    "#BMI = weight / (height * height) * 10000\n",
    "BMI1 = weight / (height * height) * 10000\n",
    "BMI2 = round(BMI1,2)\n",
    "\n",
    "print(BMI2)\n",
    "\n",
    "if BMI>0:\n",
    "    if(BMI<18.5):\n",
    "        print(name +\", you are underwight.\")\n",
    "    elif (BMI<=24.99):\n",
    "        print(name +\", you are normal weight.\")\n",
    "    elif (BMI<29.99):\n",
    "        print(name +\", you are overweight. You need to exercise more and stop sitting and writing so many python tutorials.\")\n",
    "    elif (BMI<34.99):\n",
    "        print(name +\", you are obese.\")\n",
    "    elif (BMI<39.99):\n",
    "        print(name +\", you are severely obese.\")\n",
    "    else:\n",
    "        print(name +\", you are morbidly obese.\")\n",
    "else:\n",
    "    print(\"Enter valid input\")\n"
   ]
  },
  {
   "cell_type": "code",
   "execution_count": null,
   "id": "1003524c-1a68-4d35-ba88-98701880b933",
   "metadata": {},
   "outputs": [],
   "source": []
  }
 ],
 "metadata": {
  "kernelspec": {
   "display_name": "Python 3 (ipykernel)",
   "language": "python",
   "name": "python3"
  },
  "language_info": {
   "codemirror_mode": {
    "name": "ipython",
    "version": 3
   },
   "file_extension": ".py",
   "mimetype": "text/x-python",
   "name": "python",
   "nbconvert_exporter": "python",
   "pygments_lexer": "ipython3",
   "version": "3.9.12"
  }
 },
 "nbformat": 4,
 "nbformat_minor": 5
}
