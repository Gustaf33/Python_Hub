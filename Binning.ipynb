{
 "cells": [
  {
   "cell_type": "code",
   "execution_count": 6,
   "id": "fdc5fcea-6019-421f-9f2c-3de946ba3a04",
   "metadata": {},
   "outputs": [],
   "source": [
    "#Binning is a type of data preprocessing, a mechanism which includes also dealing with missing values, formatting, normalization and standardization\n",
    "\n",
    "import numpy as np\n",
    "import pandas as pd\n",
    "from pandas import Series, DataFrame"
   ]
  },
  {
   "cell_type": "code",
   "execution_count": 7,
   "id": "baf10b8d-5257-4f62-8655-3a9f75581d66",
   "metadata": {},
   "outputs": [],
   "source": [
    "years = [1990,1991,1992,2008,2012,2015,1987,1969,2013,2008,1999]"
   ]
  },
  {
   "cell_type": "code",
   "execution_count": 8,
   "id": "3d581cae-46f7-4aa5-8164-7ea13a83800d",
   "metadata": {},
   "outputs": [],
   "source": [
    "# We can seperate these years by decade\n",
    "decade_bins = [1960,1970,1980,1990,2000,2010,2020]"
   ]
  },
  {
   "cell_type": "code",
   "execution_count": 9,
   "id": "88361f2b-3227-49c5-b229-53719c636937",
   "metadata": {},
   "outputs": [],
   "source": [
    "# We can seperate these years by decade\n",
    "decade_bins = [1960,1970,1980,1990,2000,2010,2020]"
   ]
  },
  {
   "cell_type": "code",
   "execution_count": 10,
   "id": "74fcc63f-b2a3-4627-8c7a-625e75fcff61",
   "metadata": {},
   "outputs": [],
   "source": [
    "#Now we'll use cut to get somethign called a Category object\n",
    "decade_cat = pd.cut(years,decade_bins)"
   ]
  },
  {
   "cell_type": "code",
   "execution_count": 11,
   "id": "870fdb60-dc62-489c-a24f-2e4e7e36b717",
   "metadata": {},
   "outputs": [
    {
     "data": {
      "text/plain": [
       "[(1980, 1990], (1990, 2000], (1990, 2000], (2000, 2010], (2010, 2020], ..., (1980, 1990], (1960, 1970], (2010, 2020], (2000, 2010], (1990, 2000]]\n",
       "Length: 11\n",
       "Categories (6, interval[int64, right]): [(1960, 1970] < (1970, 1980] < (1980, 1990] < (1990, 2000] < (2000, 2010] < (2010, 2020]]"
      ]
     },
     "execution_count": 11,
     "metadata": {},
     "output_type": "execute_result"
    }
   ],
   "source": [
    "#Show\n",
    "decade_cat"
   ]
  },
  {
   "cell_type": "code",
   "execution_count": 12,
   "id": "bca655f5-9e67-41a6-9e03-7c8e57678379",
   "metadata": {},
   "outputs": [
    {
     "data": {
      "text/plain": [
       "IntervalIndex([(1960, 1970], (1970, 1980], (1980, 1990], (1990, 2000], (2000, 2010], (2010, 2020]], dtype='interval[int64, right]')"
      ]
     },
     "execution_count": 12,
     "metadata": {},
     "output_type": "execute_result"
    }
   ],
   "source": [
    "# We can check the categories using .categories\n",
    "decade_cat.categories"
   ]
  },
  {
   "cell_type": "code",
   "execution_count": 13,
   "id": "34cb6a11-0456-4f93-b608-2372b1b11a95",
   "metadata": {},
   "outputs": [
    {
     "data": {
      "text/plain": [
       "(1990, 2000]    3\n",
       "(2010, 2020]    3\n",
       "(1980, 1990]    2\n",
       "(2000, 2010]    2\n",
       "(1960, 1970]    1\n",
       "(1970, 1980]    0\n",
       "dtype: int64"
      ]
     },
     "execution_count": 13,
     "metadata": {},
     "output_type": "execute_result"
    }
   ],
   "source": [
    "# Then we can check the value counts in each category\n",
    "pd.value_counts(decade_cat)"
   ]
  },
  {
   "cell_type": "code",
   "execution_count": 14,
   "id": "cc6986e4-6005-465f-b450-4db68a133258",
   "metadata": {},
   "outputs": [
    {
     "data": {
      "text/plain": [
       "[(1969.0, 1992.0], (1969.0, 1992.0], (1969.0, 1992.0], (1992.0, 2015.0], (1992.0, 2015.0], ..., (1969.0, 1992.0], (1969.0, 1992.0], (1992.0, 2015.0], (1992.0, 2015.0], (1992.0, 2015.0]]\n",
       "Length: 11\n",
       "Categories (2, interval[float64, right]): [(1969.0, 1992.0] < (1992.0, 2015.0]]"
      ]
     },
     "execution_count": 14,
     "metadata": {},
     "output_type": "execute_result"
    }
   ],
   "source": [
    "# We can also pass data values to the cut.\n",
    "\n",
    "#For instance, if we just wanted to make two bins, evenly spaced based on max and min year, with a 1 year precision\n",
    "pd.cut(years,2,precision=1)"
   ]
  },
  {
   "cell_type": "code",
   "execution_count": 15,
   "id": "561cd064-cbae-47f6-b5db-a8948f1f36de",
   "metadata": {},
   "outputs": [],
   "source": [
    "# One last thing to note, jus tlike in standard math notation, when setting up bins:\n",
    "# () means open, while [] means closed/inclusive"
   ]
  },
  {
   "cell_type": "code",
   "execution_count": 16,
   "id": "2ede002b-8567-4a8f-8618-3f61d02a55dd",
   "metadata": {},
   "outputs": [],
   "source": [
    "# Next up: Finding Outliers and Describing Data!"
   ]
  },
  {
   "cell_type": "code",
   "execution_count": null,
   "id": "2e621a72-18ac-4c88-8da2-b31fd304e63a",
   "metadata": {},
   "outputs": [],
   "source": []
  }
 ],
 "metadata": {
  "kernelspec": {
   "display_name": "Python 3 (ipykernel)",
   "language": "python",
   "name": "python3"
  },
  "language_info": {
   "codemirror_mode": {
    "name": "ipython",
    "version": 3
   },
   "file_extension": ".py",
   "mimetype": "text/x-python",
   "name": "python",
   "nbconvert_exporter": "python",
   "pygments_lexer": "ipython3",
   "version": "3.9.12"
  }
 },
 "nbformat": 4,
 "nbformat_minor": 5
}
